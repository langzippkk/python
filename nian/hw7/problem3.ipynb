{
 "cells": [
  {
   "cell_type": "code",
   "execution_count": 2,
   "metadata": {},
   "outputs": [],
   "source": [
    "import numpy as np\n",
    "import pandas as pd\n",
    "rainfall = pd.read_csv('hw7_data/Seattle2014.csv')['PRCP'].values\n",
    "inches = rainfall / 254.0  \n",
    "## 1/10mm -> inches"
   ]
  },
  {
   "cell_type": "markdown",
   "metadata": {},
   "source": [
    " 1. For rainy (more than 0 inches), what was the average and stddev of rainfall?"
   ]
  },
  {
   "cell_type": "code",
   "execution_count": 11,
   "metadata": {},
   "outputs": [
    {
     "name": "stdout",
     "output_type": "stream",
     "text": [
      "The average is: 0.32356955380577423\n",
      "The standard deviation is: 0.3336348441068411\n"
     ]
    }
   ],
   "source": [
    "average = np.mean(inches[inches > 0])\n",
    "print(\"The average is: \"+ str(average))\n",
    "\n",
    "stddev = np.std(inches[inches > 0])\n",
    "\n",
    "print(\"The standard deviation is: \"+ str(stddev))"
   ]
  },
  {
   "cell_type": "markdown",
   "metadata": {},
   "source": [
    "\n",
    "2. Though we don’t have labels for days of the week, we do know that datapoints separated by 7 days will be the same day of the week.  For example, `inches[::7]` will be the rainfall for one day of the week, `inches[1::7]` will be another day of the week, and so on.\n",
    "    1. For each of the 7 days of the week, what was the average and stddev of rainfall?\n",
    "    2. For each of the 7 days, what was the ratio of rainy days (more than 0 inches) to total days?"
   ]
  },
  {
   "cell_type": "code",
   "execution_count": 24,
   "metadata": {},
   "outputs": [
    {
     "name": "stdout",
     "output_type": "stream",
     "text": [
      "The 1th day of the week has average rainfall: 0.17605110681919478\n",
      "The 2th day of the week has average rainfall: 0.10546638400969109\n",
      "The 3th day of the week has average rainfall: 0.1163688673531193\n",
      "The 4th day of the week has average rainfall: 0.1718655360387644\n",
      "The 5th day of the week has average rainfall: 0.10622350090854026\n",
      "The 6th day of the week has average rainfall: 0.1004694124772865\n",
      "The 7th day of the week has average rainfall: 0.15354330708661418\n",
      "\n",
      "The 1th day of the week's rainfall has standard deviation: 0.36249235845136285\n",
      "The 2th day of the week's rainfall has standard deviation: 0.20447868899170576\n",
      "The 3th day of the week's rainfall has standard deviation: 0.2495487964409381\n",
      "The 4th day of the week's rainfall has standard deviation: 0.30525327169389976\n",
      "The 5th day of the week's rainfall has standard deviation: 0.2463232910120396\n",
      "The 6th day of the week's rainfall has standard deviation: 0.1974679748746807\n",
      "The 7th day of the week's rainfall has standard deviation: 0.24798462249249648\n"
     ]
    }
   ],
   "source": [
    "for i in range(7):\n",
    "    print(\"The \"+str(i+1)+\"th day of the week has average rainfall: \" + str(np.mean(inches[i::7])))\n",
    "print(\"\")\n",
    "for i in range(7):\n",
    "    print(\"The \"+str(i+1)+\"th day of the week's rainfall has standard deviation: \" + str(np.std(inches[i::7])))\n"
   ]
  },
  {
   "cell_type": "code",
   "execution_count": 28,
   "metadata": {},
   "outputs": [
    {
     "name": "stdout",
     "output_type": "stream",
     "text": [
      "The 1th day's ratio of rainy day is: 0.41509433962264153\n",
      "The 2th day's ratio of rainy day is: 0.4423076923076923\n",
      "The 3th day's ratio of rainy day is: 0.4230769230769231\n",
      "The 4th day's ratio of rainy day is: 0.4807692307692308\n",
      "The 5th day's ratio of rainy day is: 0.3269230769230769\n",
      "The 6th day's ratio of rainy day is: 0.36538461538461536\n",
      "The 7th day's ratio of rainy day is: 0.4230769230769231\n"
     ]
    }
   ],
   "source": [
    "## B\n",
    "for i in range(7):\n",
    "    inches_temp = inches[i::7]\n",
    "    ratio = len(inches_temp[inches_temp>0])/len(inches_temp)\n",
    "    print(\"The \"+str(i+1)+\"th day's ratio of rainy day is: \" + str(ratio))"
   ]
  },
  {
   "cell_type": "markdown",
   "metadata": {},
   "source": [
    "3. In each 7-day period, what was the total rainfall? (There should be 52 values here: one value for each 7-day period.)"
   ]
  },
  {
   "cell_type": "code",
   "execution_count": 63,
   "metadata": {},
   "outputs": [
    {
     "name": "stdout",
     "output_type": "stream",
     "text": [
      "The 1th period has total rainfall: 0.7125984251968503\n",
      "The 2th period has total rainfall: 1.6771653543307086\n",
      "The 3th period has total rainfall: 0.0\n",
      "The 4th period has total rainfall: 0.3700787401574803\n",
      "The 5th period has total rainfall: 1.019685039370079\n",
      "The 6th period has total rainfall: 1.6102362204724412\n",
      "The 7th period has total rainfall: 3.291338582677165\n",
      "The 8th period has total rainfall: 1.1299212598425195\n",
      "The 9th period has total rainfall: 1.84251968503937\n",
      "The 10th period has total rainfall: 4.137795275590552\n",
      "The 11th period has total rainfall: 1.7125984251968505\n",
      "The 12th period has total rainfall: 0.1811023622047244\n",
      "The 13th period has total rainfall: 1.574803149606299\n",
      "The 14th period has total rainfall: 0.46062992125984253\n",
      "The 15th period has total rainfall: 0.01968503937007874\n",
      "The 16th period has total rainfall: 2.456692913385827\n",
      "The 17th period has total rainfall: 1.2401574803149606\n",
      "The 18th period has total rainfall: 2.1417322834645667\n",
      "The 19th period has total rainfall: 0.6377952755905512\n",
      "The 20th period has total rainfall: 0.0\n",
      "The 21th period has total rainfall: 0.3700787401574803\n",
      "The 22th period has total rainfall: 0.0\n",
      "The 23th period has total rainfall: 0.0\n",
      "The 24th period has total rainfall: 0.5354330708661418\n",
      "The 25th period has total rainfall: 0.04330708661417323\n",
      "The 26th period has total rainfall: 0.16141732283464566\n",
      "The 27th period has total rainfall: 0.0\n",
      "The 28th period has total rainfall: 0.0\n",
      "The 29th period has total rainfall: 0.011811023622047244\n",
      "The 30th period has total rainfall: 0.7598425196850394\n",
      "The 31th period has total rainfall: 0.01968503937007874\n",
      "The 32th period has total rainfall: 0.5196850393700787\n",
      "The 33th period has total rainfall: 0.8897637795275591\n",
      "The 34th period has total rainfall: 0.0\n",
      "The 35th period has total rainfall: 0.5\n",
      "The 36th period has total rainfall: 0.0\n",
      "The 37th period has total rainfall: 0.0\n",
      "The 38th period has total rainfall: 0.7637795275590552\n",
      "The 39th period has total rainfall: 1.3503937007874016\n",
      "The 40th period has total rainfall: 0.0\n",
      "The 41th period has total rainfall: 0.8818897637795275\n",
      "The 42th period has total rainfall: 1.5590551181102361\n",
      "The 43th period has total rainfall: 2.622047244094488\n",
      "The 44th period has total rainfall: 2.350393700787402\n",
      "The 45th period has total rainfall: 0.5511811023622047\n",
      "The 46th period has total rainfall: 0.0\n",
      "The 47th period has total rainfall: 2.0\n",
      "The 48th period has total rainfall: 1.6338582677165354\n",
      "The 49th period has total rainfall: 1.1889763779527558\n",
      "The 50th period has total rainfall: 0.7834645669291338\n",
      "The 51th period has total rainfall: 2.322834645669291\n",
      "The 52th period has total rainfall: 0.49999999999999994\n"
     ]
    }
   ],
   "source": [
    "ignore_lastday = inches[:-1]\n",
    "split = np.hsplit(ignore_lastday,52)\n",
    "day1 = 1\n",
    "for i in split:\n",
    "    \n",
    "    print(\"The \"+str(day1)+\"th period has total rainfall: \" + str(np.sum(i)))\n",
    "    day1 = day1+1\n"
   ]
  }
 ],
 "metadata": {
  "kernelspec": {
   "display_name": "Python 3",
   "language": "python",
   "name": "python3"
  },
  "language_info": {
   "codemirror_mode": {
    "name": "ipython",
    "version": 3
   },
   "file_extension": ".py",
   "mimetype": "text/x-python",
   "name": "python",
   "nbconvert_exporter": "python",
   "pygments_lexer": "ipython3",
   "version": "3.7.3"
  }
 },
 "nbformat": 4,
 "nbformat_minor": 2
}
