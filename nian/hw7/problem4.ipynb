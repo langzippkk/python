{
 "cells": [
  {
   "cell_type": "code",
   "execution_count": 2,
   "metadata": {},
   "outputs": [],
   "source": [
    "import pandas as pd\n",
    "import numpy as np\n",
    "fish = pd.read_csv('hw7_data/SnorkelSurveyExtract.csv')\n",
    "\n",
    "fish_density = fish['Estimated density (fish/mi)'].values\n",
    "\n",
    "water_temp = fish['Water temperature (C)'].values\n",
    "water_depth = fish['Average water depth (ft)'].values\n",
    "\n",
    "fdensity_clean = fish_density[~np.isnan(fish_density) & ~np.isnan(water_temp) & ~np.isnan(water_depth)]\n",
    "wtemp_clean = water_temp[~np.isnan(fish_density) & ~np.isnan(water_temp) & ~np.isnan(water_depth)]\n",
    "wdepth_clean = water_depth[~np.isnan(fish_density) & ~np.isnan(water_temp) & ~np.isnan(water_depth)]"
   ]
  },
  {
   "cell_type": "markdown",
   "metadata": {},
   "source": [
    "1. What are the average fish densities for these water temperature intervals?\n",
    "    1. Very cold water:  \n",
    "    $$<$$ 10 C\n",
    "    2. Cold water:  \n",
    "    $$>=$$ 10 C and $$<$$ 20 C\n",
    "    3. Warm water:  \n",
    "    $$\\ge$$ 20 C"
   ]
  },
  {
   "cell_type": "code",
   "execution_count": 24,
   "metadata": {},
   "outputs": [
    {
     "name": "stdout",
     "output_type": "stream",
     "text": [
      "very cold water average density :618.640625\n",
      "cold water average density :1014.5357607282185\n",
      "warm water average density :2075.2057416267944\n"
     ]
    }
   ],
   "source": [
    "print(\"very cold water average density :\" +str (np.mean(fdensity_clean[wtemp_clean < 10])))\n",
    "print(\"cold water average density :\" +str (np.mean(fdensity_clean[(wtemp_clean >= 10) & (wtemp_clean <20)])))\n",
    "print(\"warm water average density :\" +str (np.mean(fdensity_clean[wtemp_clean >= 20])))"
   ]
  },
  {
   "cell_type": "markdown",
   "metadata": {},
   "source": [
    "2. What are the average fish densities for these water depth intervals?\n",
    "    1. Shallow water:  $$<$$ 4 ft\n",
    "    2. Mid-depth water:  $$\\ge$$ 4 and $$<$$ 8 ft\n",
    "    3. Deep water:  $$\\ge$$ 8 ft"
   ]
  },
  {
   "cell_type": "code",
   "execution_count": 5,
   "metadata": {},
   "outputs": [
    {
     "name": "stdout",
     "output_type": "stream",
     "text": [
      "shallow water average density :1153.268817204301\n",
      "Mid-depth water average density :1611.138888888889\n",
      "deep water average density :1736.5\n"
     ]
    }
   ],
   "source": [
    "print(\"shallow water average density :\" +str (np.mean(fdensity_clean[wdepth_clean < 4])))\n",
    "print(\"Mid-depth water average density :\" +str (np.mean(fdensity_clean[(wdepth_clean >= 4) & (wdepth_clean <8)])))\n",
    "print(\"deep water average density :\" +str (np.mean(fdensity_clean[wdepth_clean >= 8])))"
   ]
  },
  {
   "cell_type": "markdown",
   "metadata": {},
   "source": [
    "\n",
    "3. For each of the 10 most-dense fish samples, show:\n",
    "    1. Fish density\n",
    "    2. Water temperature\n",
    "    3. Water depth"
   ]
  },
  {
   "cell_type": "code",
   "execution_count": 144,
   "metadata": {},
   "outputs": [
    {
     "name": "stdout",
     "output_type": "stream",
     "text": [
      "10 most-dense fish samples' density are: [             35797.000000              33200.000000\n",
      "              29468.000000              21633.000000\n",
      "              20942.000000              19827.000000\n",
      "              18539.000000              16994.000000\n",
      "              15634.000000              14510.000000]\n",
      "10 most-dense fish samples' water temperature are: [                22.800000                 13.000000\n",
      "                 22.800000                 18.900000\n",
      "                 22.800000                 21.000000\n",
      "                 19.000000                 18.900000\n",
      "                 21.000000                 19.000000]\n",
      "10 most-dense fish samples' water depth are: [                 4.300000                  3.000000\n",
      "                  2.400000                  1.780000\n",
      "                  4.300000                  1.800000\n",
      "                  2.700000                  2.210000\n",
      "                  1.500000                  4.100000]\n"
     ]
    }
   ],
   "source": [
    "fish_clean = np.stack([fdensity_clean,wtemp_clean,wdepth_clean],axis = 1)\n",
    "sort1 = fish_clean[fish_clean[:,0].argsort()][::-1]\n",
    "result = sort1[:10]\n",
    "result1 = np.around(result,decimals = 3)\n",
    "\n",
    "print(\"10 most-dense fish samples' density are: \" + str(result1.T[0]))\n",
    "\n",
    "print(\"10 most-dense fish samples' water temperature are: \" + str(result1.T[1]))\n",
    "\n",
    "print(\"10 most-dense fish samples' water depth are: \" + str(result1.T[2]))"
   ]
  },
  {
   "cell_type": "code",
   "execution_count": 3,
   "metadata": {},
   "outputs": [
    {
     "data": {
      "text/html": [
       "<div>\n",
       "<style scoped>\n",
       "    .dataframe tbody tr th:only-of-type {\n",
       "        vertical-align: middle;\n",
       "    }\n",
       "\n",
       "    .dataframe tbody tr th {\n",
       "        vertical-align: top;\n",
       "    }\n",
       "\n",
       "    .dataframe thead th {\n",
       "        text-align: right;\n",
       "    }\n",
       "</style>\n",
       "<table border=\"1\" class=\"dataframe\">\n",
       "  <thead>\n",
       "    <tr style=\"text-align: right;\">\n",
       "      <th></th>\n",
       "      <th>Estimated density (fish/mi)</th>\n",
       "      <th>Water temperature (C)</th>\n",
       "      <th>Average water depth (ft)</th>\n",
       "    </tr>\n",
       "  </thead>\n",
       "  <tbody>\n",
       "    <tr>\n",
       "      <th>104</th>\n",
       "      <td>35797.0</td>\n",
       "      <td>22.8</td>\n",
       "      <td>4.30</td>\n",
       "    </tr>\n",
       "    <tr>\n",
       "      <th>722</th>\n",
       "      <td>33200.0</td>\n",
       "      <td>13.0</td>\n",
       "      <td>3.00</td>\n",
       "    </tr>\n",
       "    <tr>\n",
       "      <th>210</th>\n",
       "      <td>29468.0</td>\n",
       "      <td>22.8</td>\n",
       "      <td>2.40</td>\n",
       "    </tr>\n",
       "    <tr>\n",
       "      <th>96</th>\n",
       "      <td>21633.0</td>\n",
       "      <td>18.9</td>\n",
       "      <td>1.78</td>\n",
       "    </tr>\n",
       "    <tr>\n",
       "      <th>107</th>\n",
       "      <td>20942.0</td>\n",
       "      <td>22.8</td>\n",
       "      <td>4.30</td>\n",
       "    </tr>\n",
       "    <tr>\n",
       "      <th>1122</th>\n",
       "      <td>19827.0</td>\n",
       "      <td>21.0</td>\n",
       "      <td>1.80</td>\n",
       "    </tr>\n",
       "    <tr>\n",
       "      <th>30</th>\n",
       "      <td>18539.0</td>\n",
       "      <td>19.0</td>\n",
       "      <td>2.70</td>\n",
       "    </tr>\n",
       "    <tr>\n",
       "      <th>94</th>\n",
       "      <td>16994.0</td>\n",
       "      <td>18.9</td>\n",
       "      <td>2.21</td>\n",
       "    </tr>\n",
       "    <tr>\n",
       "      <th>1116</th>\n",
       "      <td>15634.0</td>\n",
       "      <td>21.0</td>\n",
       "      <td>1.50</td>\n",
       "    </tr>\n",
       "    <tr>\n",
       "      <th>20</th>\n",
       "      <td>14510.0</td>\n",
       "      <td>19.0</td>\n",
       "      <td>4.10</td>\n",
       "    </tr>\n",
       "  </tbody>\n",
       "</table>\n",
       "</div>"
      ],
      "text/plain": [
       "      Estimated density (fish/mi)  Water temperature (C)  \\\n",
       "104                       35797.0                   22.8   \n",
       "722                       33200.0                   13.0   \n",
       "210                       29468.0                   22.8   \n",
       "96                        21633.0                   18.9   \n",
       "107                       20942.0                   22.8   \n",
       "1122                      19827.0                   21.0   \n",
       "30                        18539.0                   19.0   \n",
       "94                        16994.0                   18.9   \n",
       "1116                      15634.0                   21.0   \n",
       "20                        14510.0                   19.0   \n",
       "\n",
       "      Average water depth (ft)  \n",
       "104                       4.30  \n",
       "722                       3.00  \n",
       "210                       2.40  \n",
       "96                        1.78  \n",
       "107                       4.30  \n",
       "1122                      1.80  \n",
       "30                        2.70  \n",
       "94                        2.21  \n",
       "1116                      1.50  \n",
       "20                        4.10  "
      ]
     },
     "execution_count": 3,
     "metadata": {},
     "output_type": "execute_result"
    }
   ],
   "source": [
    "## method using pandas dataframe\n",
    "\n",
    "fish_clean1 = fish[~np.isnan(fish_density) & ~np.isnan(water_temp) & ~np.isnan(water_depth)]\n",
    "fish_clean1 = fish_clean1[['Estimated density (fish/mi)','Water temperature (C)','Average water depth (ft)']]\n",
    "fish_clean1.sort_values(by=['Estimated density (fish/mi)'],ascending = False)[:10]"
   ]
  },
  {
   "cell_type": "markdown",
   "metadata": {},
   "source": [
    "4. do the same for the 10 least-dense samples"
   ]
  },
  {
   "cell_type": "code",
   "execution_count": 171,
   "metadata": {},
   "outputs": [
    {
     "name": "stdout",
     "output_type": "stream",
     "text": [
      "10 least-dense fish samples' density are: [                 0.000000                  0.000000\n",
      "                  0.000000                  0.000000\n",
      "                  0.000000                  0.000000\n",
      "                  0.000000                  0.000000\n",
      "                  0.000000                  0.000000]\n",
      "10 least-dense fish samples' water temperature are: [                 7.000000                  9.000000\n",
      "                  6.000000                 10.000000\n",
      "                 20.000000                 14.000000\n",
      "                 18.000000                 15.000000\n",
      "                 14.000000                 12.000000]\n",
      "10 least-dense fish samples' water depth are: [                 1.300000                  0.600000\n",
      "                  0.500000                  0.500000\n",
      "                  0.300000                  0.400000\n",
      "                  7.300000                  0.100000\n",
      "                  0.700000                  0.200000]\n"
     ]
    }
   ],
   "source": [
    "sort2 = fish_clean[fish_clean[:,0].argsort()]\n",
    "result2 = sort2[:10]\n",
    "\n",
    "print(\"10 least-dense fish samples' density are: \" + str(result2.T[0]))\n",
    "\n",
    "print(\"10 least-dense fish samples' water temperature are: \" + str(result2.T[1]))\n",
    "\n",
    "print(\"10 least-dense fish samples' water depth are: \" + str(result2.T[2]))"
   ]
  },
  {
   "cell_type": "code",
   "execution_count": 4,
   "metadata": {},
   "outputs": [
    {
     "data": {
      "text/html": [
       "<div>\n",
       "<style scoped>\n",
       "    .dataframe tbody tr th:only-of-type {\n",
       "        vertical-align: middle;\n",
       "    }\n",
       "\n",
       "    .dataframe tbody tr th {\n",
       "        vertical-align: top;\n",
       "    }\n",
       "\n",
       "    .dataframe thead th {\n",
       "        text-align: right;\n",
       "    }\n",
       "</style>\n",
       "<table border=\"1\" class=\"dataframe\">\n",
       "  <thead>\n",
       "    <tr style=\"text-align: right;\">\n",
       "      <th></th>\n",
       "      <th>Estimated density (fish/mi)</th>\n",
       "      <th>Water temperature (C)</th>\n",
       "      <th>Average water depth (ft)</th>\n",
       "    </tr>\n",
       "  </thead>\n",
       "  <tbody>\n",
       "    <tr>\n",
       "      <th>486</th>\n",
       "      <td>0.0</td>\n",
       "      <td>7.0</td>\n",
       "      <td>1.3</td>\n",
       "    </tr>\n",
       "    <tr>\n",
       "      <th>487</th>\n",
       "      <td>0.0</td>\n",
       "      <td>9.0</td>\n",
       "      <td>0.6</td>\n",
       "    </tr>\n",
       "    <tr>\n",
       "      <th>491</th>\n",
       "      <td>0.0</td>\n",
       "      <td>6.0</td>\n",
       "      <td>0.5</td>\n",
       "    </tr>\n",
       "    <tr>\n",
       "      <th>493</th>\n",
       "      <td>0.0</td>\n",
       "      <td>10.0</td>\n",
       "      <td>0.5</td>\n",
       "    </tr>\n",
       "    <tr>\n",
       "      <th>1283</th>\n",
       "      <td>0.0</td>\n",
       "      <td>20.0</td>\n",
       "      <td>0.3</td>\n",
       "    </tr>\n",
       "    <tr>\n",
       "      <th>592</th>\n",
       "      <td>0.0</td>\n",
       "      <td>14.0</td>\n",
       "      <td>0.4</td>\n",
       "    </tr>\n",
       "    <tr>\n",
       "      <th>909</th>\n",
       "      <td>0.0</td>\n",
       "      <td>18.0</td>\n",
       "      <td>7.3</td>\n",
       "    </tr>\n",
       "    <tr>\n",
       "      <th>965</th>\n",
       "      <td>0.0</td>\n",
       "      <td>15.0</td>\n",
       "      <td>0.1</td>\n",
       "    </tr>\n",
       "    <tr>\n",
       "      <th>980</th>\n",
       "      <td>0.0</td>\n",
       "      <td>14.0</td>\n",
       "      <td>0.7</td>\n",
       "    </tr>\n",
       "    <tr>\n",
       "      <th>983</th>\n",
       "      <td>0.0</td>\n",
       "      <td>12.0</td>\n",
       "      <td>0.2</td>\n",
       "    </tr>\n",
       "  </tbody>\n",
       "</table>\n",
       "</div>"
      ],
      "text/plain": [
       "      Estimated density (fish/mi)  Water temperature (C)  \\\n",
       "486                           0.0                    7.0   \n",
       "487                           0.0                    9.0   \n",
       "491                           0.0                    6.0   \n",
       "493                           0.0                   10.0   \n",
       "1283                          0.0                   20.0   \n",
       "592                           0.0                   14.0   \n",
       "909                           0.0                   18.0   \n",
       "965                           0.0                   15.0   \n",
       "980                           0.0                   14.0   \n",
       "983                           0.0                   12.0   \n",
       "\n",
       "      Average water depth (ft)  \n",
       "486                        1.3  \n",
       "487                        0.6  \n",
       "491                        0.5  \n",
       "493                        0.5  \n",
       "1283                       0.3  \n",
       "592                        0.4  \n",
       "909                        7.3  \n",
       "965                        0.1  \n",
       "980                        0.7  \n",
       "983                        0.2  "
      ]
     },
     "execution_count": 4,
     "metadata": {},
     "output_type": "execute_result"
    }
   ],
   "source": [
    "## pandas solution\n",
    "fish_clean1.sort_values(by=['Estimated density (fish/mi)'])[:10]"
   ]
  }
 ],
 "metadata": {
  "kernelspec": {
   "display_name": "Python 3",
   "language": "python",
   "name": "python3"
  },
  "language_info": {
   "codemirror_mode": {
    "name": "ipython",
    "version": 3
   },
   "file_extension": ".py",
   "mimetype": "text/x-python",
   "name": "python",
   "nbconvert_exporter": "python",
   "pygments_lexer": "ipython3",
   "version": "3.7.3"
  }
 },
 "nbformat": 4,
 "nbformat_minor": 2
}
