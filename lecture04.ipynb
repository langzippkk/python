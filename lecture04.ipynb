{
 "cells": [
  {
   "cell_type": "markdown",
   "metadata": {
    "collapsed": true,
    "slideshow": {
     "slide_type": "slide"
    }
   },
   "source": [
    "# MPCS 51042-2 Lecture 4\n",
    "# Higher-Order Functions\n",
    "## Ron Rahaman - University of Chicago, Department of Computer Science\n",
    "## Oct 28, 2019"
   ]
  },
  {
   "cell_type": "markdown",
   "metadata": {
    "slideshow": {
     "slide_type": "slide"
    }
   },
   "source": [
    "# Functions as Objects"
   ]
  },
  {
   "cell_type": "markdown",
   "metadata": {
    "slideshow": {
     "slide_type": "subslide"
    }
   },
   "source": [
    "## A function is a first-class object"
   ]
  },
  {
   "cell_type": "markdown",
   "metadata": {},
   "source": [
    "* This `def` statement creates a variable named `factorial` and new instance of a function object. \n",
    "* The name and the function object do not exist until the `def` statement is executed."
   ]
  },
  {
   "cell_type": "code",
   "execution_count": 1,
   "metadata": {},
   "outputs": [],
   "source": [
    "def factorial(n):\n",
    "    res = 1\n",
    "    for i in range(2, n+1):\n",
    "        res *= i\n",
    "    return res"
   ]
  },
  {
   "cell_type": "markdown",
   "metadata": {},
   "source": [
    "The [`type` built-in function](https://docs.python.org/3/library/functions.html#type) shows that the name `factorial` refers to an instance of a function object."
   ]
  },
  {
   "cell_type": "code",
   "execution_count": 4,
   "metadata": {},
   "outputs": [
    {
     "data": {
      "text/plain": [
       "function"
      ]
     },
     "execution_count": 4,
     "metadata": {},
     "output_type": "execute_result"
    }
   ],
   "source": [
    "type(factorial)"
   ]
  },
  {
   "cell_type": "markdown",
   "metadata": {
    "slideshow": {
     "slide_type": "subslide"
    }
   },
   "source": [
    "## The call operator"
   ]
  },
  {
   "cell_type": "markdown",
   "metadata": {},
   "source": [
    "The call operator `()` executes a function object (including passing arguments and returning a result)."
   ]
  },
  {
   "cell_type": "code",
   "execution_count": 5,
   "metadata": {
    "slideshow": {
     "slide_type": "-"
    }
   },
   "outputs": [
    {
     "data": {
      "text/plain": [
       "int"
      ]
     },
     "execution_count": 5,
     "metadata": {},
     "output_type": "execute_result"
    }
   ],
   "source": [
    "type(factorial(4))"
   ]
  },
  {
   "cell_type": "markdown",
   "metadata": {},
   "source": [
    "Any class for which the call operator is implemented is **callable**.  This includes:\n",
    "* User defined functions (`def` and `lambda`)\n",
    "* User defined classes and class methods\n",
    "* Built-in functions, classes, and class methods (`len`, `zip`, and `list.append`)\n",
    "* Generators\n",
    "\n",
    "In most cases, the exact type of a callable won't matter to the user."
   ]
  },
  {
   "cell_type": "markdown",
   "metadata": {
    "slideshow": {
     "slide_type": "subslide"
    }
   },
   "source": [
    "## Aside: Attributes of Functions"
   ]
  },
  {
   "cell_type": "markdown",
   "metadata": {},
   "source": [
    "The [built-in `dir` function](https://docs.python.org/3/library/functions.html#dir) returns the attributes of any object.  For a function, it will show many attributes specific to the callables.  "
   ]
  },
  {
   "cell_type": "code",
   "execution_count": 2,
   "metadata": {},
   "outputs": [
    {
     "data": {
      "text/plain": [
       "['__annotations__',\n",
       " '__call__',\n",
       " '__class__',\n",
       " '__closure__',\n",
       " '__code__',\n",
       " '__defaults__',\n",
       " '__delattr__',\n",
       " '__dict__',\n",
       " '__dir__',\n",
       " '__doc__',\n",
       " '__eq__',\n",
       " '__format__',\n",
       " '__ge__',\n",
       " '__get__',\n",
       " '__getattribute__',\n",
       " '__globals__',\n",
       " '__gt__',\n",
       " '__hash__',\n",
       " '__init__',\n",
       " '__init_subclass__',\n",
       " '__kwdefaults__',\n",
       " '__le__',\n",
       " '__lt__',\n",
       " '__module__',\n",
       " '__name__',\n",
       " '__ne__',\n",
       " '__new__',\n",
       " '__qualname__',\n",
       " '__reduce__',\n",
       " '__reduce_ex__',\n",
       " '__repr__',\n",
       " '__setattr__',\n",
       " '__sizeof__',\n",
       " '__str__',\n",
       " '__subclasshook__']"
      ]
     },
     "execution_count": 2,
     "metadata": {},
     "output_type": "execute_result"
    }
   ],
   "source": [
    "dir(factorial)"
   ]
  },
  {
   "cell_type": "markdown",
   "metadata": {
    "slideshow": {
     "slide_type": "subslide"
    }
   },
   "source": [
    "## Aside: Some Interesting Function Attributes"
   ]
  },
  {
   "cell_type": "markdown",
   "metadata": {},
   "source": [
    "* The `__code__` attribute has metadata about the function.  See Ramalho Ch. 5 and the [`inspect` module](https://docs.python.org/3/library/inspect.html) for more info"
   ]
  },
  {
   "cell_type": "code",
   "execution_count": 3,
   "metadata": {},
   "outputs": [
    {
     "data": {
      "text/plain": [
       "('n', 'res', 'i')"
      ]
     },
     "execution_count": 3,
     "metadata": {},
     "output_type": "execute_result"
    }
   ],
   "source": [
    "factorial.__code__.co_varnames   # Local variable names"
   ]
  },
  {
   "cell_type": "code",
   "execution_count": 4,
   "metadata": {},
   "outputs": [
    {
     "data": {
      "text/plain": [
       "1"
      ]
     },
     "execution_count": 4,
     "metadata": {},
     "output_type": "execute_result"
    }
   ],
   "source": [
    "factorial.__code__.co_argcount  # Number of args"
   ]
  },
  {
   "cell_type": "markdown",
   "metadata": {
    "slideshow": {
     "slide_type": "slide"
    }
   },
   "source": [
    "# Higher-Order Functions"
   ]
  },
  {
   "cell_type": "markdown",
   "metadata": {
    "slideshow": {
     "slide_type": "subslide"
    }
   },
   "source": [
    "## What are Higher-Order Functions?"
   ]
  },
  {
   "cell_type": "markdown",
   "metadata": {
    "slideshow": {
     "slide_type": "-"
    }
   },
   "source": [
    "* A **higher-order function** does either or both of the following:\n",
    "  * Takes an instance of a function object as an argument\n",
    "  * Returns an instance of a fuction object as a result.\n",
    "* Some built-in examples\n",
    "  * `map`, `filter`, and `reduce`: take a function object as the first parameter\n",
    "  * `sorted`: takes a function object as the `key` parameter"
   ]
  },
  {
   "cell_type": "markdown",
   "metadata": {
    "slideshow": {
     "slide_type": "subslide"
    }
   },
   "source": [
    "## A User-Defined Higher-Order Function"
   ]
  },
  {
   "cell_type": "markdown",
   "metadata": {},
   "source": [
    "Every call to `make_averager` does the following:\n",
    "  * Creates a new list named `series` that is local to `make_averager`.  \n",
    "  * Creates a new function object named `averager` that is local to `make_averager`\n",
    "  * Returns the new function object\n",
    "  \n",
    "Note that the body of `make_averager` **does not call `averager`**\n",
    "\n",
    "This is sometimes called a **factory function**.  "
   ]
  },
  {
   "cell_type": "code",
   "execution_count": 7,
   "metadata": {},
   "outputs": [],
   "source": [
    "def make_averager(): \n",
    "    series = []\n",
    "    def averager(new_value): \n",
    "        series.append(new_value) \n",
    "        total = sum(series) \n",
    "        return total/len(series)\n",
    "    return averager"
   ]
  },
  {
   "cell_type": "markdown",
   "metadata": {
    "slideshow": {
     "slide_type": "subslide"
    }
   },
   "source": [
    "## Closures"
   ]
  },
  {
   "cell_type": "markdown",
   "metadata": {},
   "source": [
    "A **closure** consists of an instance of a function object and its external name references.  \n",
    "* This includes nonlocal, global, and built-in functions\n",
    "\n",
    "Here, the closure of the function object named `averager` includes:\n",
    "* A reference to a nonlocal list (`series`)\n",
    "* References to built-in functions and methods (`sum`, `len`, `append`)."
   ]
  },
  {
   "cell_type": "code",
   "execution_count": 8,
   "metadata": {},
   "outputs": [],
   "source": [
    "def make_averager(): \n",
    "    series = []\n",
    "    def averager(new_value): \n",
    "        series.append(new_value) \n",
    "        total = sum(series) \n",
    "        return total/len(series)\n",
    "    return averager"
   ]
  },
  {
   "cell_type": "markdown",
   "metadata": {
    "slideshow": {
     "slide_type": "subslide"
    }
   },
   "source": [
    "## Using `make_averager`"
   ]
  },
  {
   "cell_type": "markdown",
   "metadata": {},
   "source": [
    "This statement calls `make_averager` and assigns the resulting function object to the variable `my_avg_1`."
   ]
  },
  {
   "cell_type": "code",
   "execution_count": 9,
   "metadata": {},
   "outputs": [],
   "source": [
    "my_avg_1 = make_averager()"
   ]
  },
  {
   "cell_type": "markdown",
   "metadata": {},
   "source": [
    "Since `my_avg_1` refers to a function object, it is callable. "
   ]
  },
  {
   "cell_type": "code",
   "execution_count": 10,
   "metadata": {},
   "outputs": [],
   "source": [
    "my_avg_1(10)  # This returns the running average each time we call"
   ]
  },
  {
   "cell_type": "code",
   "execution_count": 11,
   "metadata": {},
   "outputs": [
    {
     "data": {
      "text/plain": [
       "10.5"
      ]
     },
     "execution_count": 11,
     "metadata": {},
     "output_type": "execute_result"
    }
   ],
   "source": [
    "my_avg_1(11)"
   ]
  },
  {
   "cell_type": "code",
   "execution_count": 12,
   "metadata": {},
   "outputs": [
    {
     "data": {
      "text/plain": [
       "11.0"
      ]
     },
     "execution_count": 12,
     "metadata": {},
     "output_type": "execute_result"
    }
   ],
   "source": [
    "my_avg_1(12)"
   ]
  },
  {
   "cell_type": "markdown",
   "metadata": {
    "slideshow": {
     "slide_type": "subslide"
    }
   },
   "source": [
    "## Multiple Instances of Function Objects"
   ]
  },
  {
   "cell_type": "markdown",
   "metadata": {},
   "source": [
    "Every call to `my_averager` returns a new instance of a function object, each with a separate closure."
   ]
  },
  {
   "cell_type": "code",
   "execution_count": 13,
   "metadata": {},
   "outputs": [],
   "source": [
    "my_avg_1 = make_averager()\n",
    "my_avg_2 = make_averager()"
   ]
  },
  {
   "cell_type": "code",
   "execution_count": 14,
   "metadata": {},
   "outputs": [
    {
     "data": {
      "text/plain": [
       "10.5"
      ]
     },
     "execution_count": 14,
     "metadata": {},
     "output_type": "execute_result"
    }
   ],
   "source": [
    "my_avg_1(10)\n",
    "my_avg_1(11)"
   ]
  },
  {
   "cell_type": "code",
   "execution_count": 15,
   "metadata": {},
   "outputs": [
    {
     "data": {
      "text/plain": [
       "4.5"
      ]
     },
     "execution_count": 15,
     "metadata": {},
     "output_type": "execute_result"
    }
   ],
   "source": [
    "my_avg_2(4)\n",
    "my_avg_2(5)"
   ]
  },
  {
   "cell_type": "code",
   "execution_count": 16,
   "metadata": {},
   "outputs": [
    {
     "data": {
      "text/plain": [
       "11.0"
      ]
     },
     "execution_count": 16,
     "metadata": {},
     "output_type": "execute_result"
    }
   ],
   "source": [
    "my_avg_1(12)"
   ]
  },
  {
   "cell_type": "markdown",
   "metadata": {
    "slideshow": {
     "slide_type": "subslide"
    }
   },
   "source": [
    "## Aside: Inspecting the Closure"
   ]
  },
  {
   "cell_type": "markdown",
   "metadata": {},
   "source": [
    "* A function's [`__closure__` attribute](https://docs.python.org/3/reference/datamodel.html?highlight=__closure__) refers to the variables in the closures.  \n",
    "* The [`inspect.getclosurevars()` function](https://docs.python.org/3/library/inspect.html#inspect.getclosurevars) is an easier way to see the closure. \n",
    " * Includes nonlocals, globals, builtins, and unbound methods (see OO lectures)."
   ]
  },
  {
   "cell_type": "code",
   "execution_count": 17,
   "metadata": {},
   "outputs": [
    {
     "data": {
      "text/plain": [
       "(10.0, 10.5, 11.0)"
      ]
     },
     "execution_count": 17,
     "metadata": {},
     "output_type": "execute_result"
    }
   ],
   "source": [
    "my_avg = make_averager()\n",
    "my_avg(10), my_avg(11), my_avg(12)"
   ]
  },
  {
   "cell_type": "code",
   "execution_count": 18,
   "metadata": {},
   "outputs": [
    {
     "name": "stdout",
     "output_type": "stream",
     "text": [
      "{'series': [10, 11, 12]}\n",
      "{}\n",
      "{'sum': <built-in function sum>, 'len': <built-in function len>}\n",
      "{'append'}\n"
     ]
    }
   ],
   "source": [
    "from inspect import getclosurevars\n",
    "for v in getclosurevars(my_avg):\n",
    "    print(v)"
   ]
  },
  {
   "cell_type": "markdown",
   "metadata": {
    "slideshow": {
     "slide_type": "slide"
    }
   },
   "source": [
    "# Higher-Order Functions That Take Functions as Args"
   ]
  },
  {
   "cell_type": "markdown",
   "metadata": {
    "slideshow": {
     "slide_type": "subslide"
    }
   },
   "source": [
    "## Functions as Args"
   ]
  },
  {
   "cell_type": "markdown",
   "metadata": {},
   "source": [
    "In this version:\n",
    "* Both `series` and `reduction_func` are local to `make_reducer`\n",
    "* Both `series` and `reduction_func` are nonlocal to `reducer`\n",
    "* Both `series` and `reduction_func` are in the closure of the returned function object"
   ]
  },
  {
   "cell_type": "code",
   "execution_count": 19,
   "metadata": {},
   "outputs": [],
   "source": [
    "def make_reducer(reduction_func): \n",
    "    series = []\n",
    "    def reducer(new_value): \n",
    "        series.append(new_value) \n",
    "        return reduction_func(series) \n",
    "    return reducer"
   ]
  },
  {
   "cell_type": "markdown",
   "metadata": {
    "slideshow": {
     "slide_type": "subslide"
    }
   },
   "source": [
    "## Using `make_reducer`"
   ]
  },
  {
   "cell_type": "markdown",
   "metadata": {},
   "source": [
    "* Each time we call `make_reducer`, the following happens:\n",
    "    * We can pass a different reduction function\n",
    "    * Then each instance of the returned function will have a different reduction function in its closure"
   ]
  },
  {
   "cell_type": "code",
   "execution_count": 20,
   "metadata": {},
   "outputs": [
    {
     "data": {
      "text/plain": [
       "(4, 9, 15)"
      ]
     },
     "execution_count": 20,
     "metadata": {},
     "output_type": "execute_result"
    }
   ],
   "source": [
    "sum_reducer = make_reducer(sum)\n",
    "sum_reducer(4), sum_reducer(5), sum_reducer(6)"
   ]
  },
  {
   "cell_type": "code",
   "execution_count": 21,
   "metadata": {},
   "outputs": [
    {
     "data": {
      "text/plain": [
       "(4.0, 4.5, 4.0)"
      ]
     },
     "execution_count": 21,
     "metadata": {},
     "output_type": "execute_result"
    }
   ],
   "source": [
    "import numpy as np\n",
    "med_reducer = make_reducer(np.median)\n",
    "med_reducer(4), med_reducer(5), med_reducer(3)"
   ]
  },
  {
   "cell_type": "markdown",
   "metadata": {},
   "source": [
    "Do we need to keep all previous values in `series`?"
   ]
  },
  {
   "cell_type": "markdown",
   "metadata": {
    "slideshow": {
     "slide_type": "subslide"
    }
   },
   "source": [
    "## Aside: The Closure of Result of `make_reducer`"
   ]
  },
  {
   "cell_type": "code",
   "execution_count": 22,
   "metadata": {},
   "outputs": [],
   "source": [
    "def make_reducer(reduction_func): \n",
    "    series = []\n",
    "    def reducer(new_value): \n",
    "        series.append(new_value) \n",
    "        return reduction_func(series) \n",
    "    return reducer"
   ]
  },
  {
   "cell_type": "code",
   "execution_count": 23,
   "metadata": {},
   "outputs": [
    {
     "data": {
      "text/plain": [
       "(4.0, 4.5, 4.0)"
      ]
     },
     "execution_count": 23,
     "metadata": {},
     "output_type": "execute_result"
    }
   ],
   "source": [
    "import numpy as np\n",
    "med_reducer = make_reducer(np.median)\n",
    "med_reducer(4), med_reducer(5), med_reducer(3)"
   ]
  },
  {
   "cell_type": "markdown",
   "metadata": {},
   "source": [
    "The closure of `med_reducer` includes the nonlocal variables `reduction_func` and `series`"
   ]
  },
  {
   "cell_type": "code",
   "execution_count": 24,
   "metadata": {},
   "outputs": [
    {
     "name": "stdout",
     "output_type": "stream",
     "text": [
      "reduction_func : <function median at 0x11186df28>\n",
      "series : [4, 5, 3]\n"
     ]
    }
   ],
   "source": [
    "from inspect import getclosurevars\n",
    "for k, v in getclosurevars(med_reducer).nonlocals.items():\n",
    "    print(k, v, sep=' : ')"
   ]
  },
  {
   "cell_type": "markdown",
   "metadata": {
    "slideshow": {
     "slide_type": "slide"
    }
   },
   "source": [
    "## Generalized Argument Passing for Factory Functions"
   ]
  },
  {
   "cell_type": "markdown",
   "metadata": {
    "slideshow": {
     "slide_type": "subslide"
    }
   },
   "source": [
    "## Review:  `*args` and `**kwargs` in function definitions.  \n",
    "\n",
    "See Lutz, Table 18-1\n",
    "\n",
    "| Syntax | Action |\n",
    "|--------|--------|\n",
    "| `def func(arg)` | Matches arguments by position or keyword |\n",
    "| `def func(arg=value)` | Default value if `arg` is not passed by caller |\n",
    "| `def func(*args)` | Packs remaining positional arguments in a tuple named `args` |\n",
    "| `def func(**kwargs)` | Packs remaining keyword arguments in a dict named `kwargs`|\n",
    "\n",
    "Must be listed in this order:\n",
    "1. All normal arguments (`arg`)\n",
    "2. All default arguments (`arg=value`)\n",
    "3. All arguments packed by position (`*args`)\n",
    "4. All arguments packed by keyword (`**kwargs`)"
   ]
  },
  {
   "cell_type": "markdown",
   "metadata": {
    "slideshow": {
     "slide_type": "subslide"
    }
   },
   "source": [
    "## Using `*args` and `**kwargs` in function definitions"
   ]
  },
  {
   "cell_type": "code",
   "execution_count": 5,
   "metadata": {},
   "outputs": [],
   "source": [
    "def print_args(*args, **kwargs):\n",
    "    print(args)   # args is a tuple\n",
    "    print(kwargs) # kwargs is a dict"
   ]
  },
  {
   "cell_type": "markdown",
   "metadata": {},
   "source": [
    "When collecting positional and keyword arguments, you can pass arbitrary combinations."
   ]
  },
  {
   "cell_type": "code",
   "execution_count": 6,
   "metadata": {},
   "outputs": [
    {
     "name": "stdout",
     "output_type": "stream",
     "text": [
      "(1, 2, 3)\n",
      "{'a': 'apple', 'b': 'banana'}\n"
     ]
    }
   ],
   "source": [
    "print_args(1, 2, 3, a='apple', b='banana')"
   ]
  },
  {
   "cell_type": "code",
   "execution_count": 27,
   "metadata": {},
   "outputs": [
    {
     "name": "stdout",
     "output_type": "stream",
     "text": [
      "(1, 2)\n",
      "{}\n"
     ]
    }
   ],
   "source": [
    "print_args(1, 2)"
   ]
  },
  {
   "cell_type": "code",
   "execution_count": 28,
   "metadata": {},
   "outputs": [
    {
     "name": "stdout",
     "output_type": "stream",
     "text": [
      "()\n",
      "{'a': 'apple', 'b': 'banana', 'c': 'cherry'}\n"
     ]
    }
   ],
   "source": [
    "print_args(a='apple', b='banana', c='cherry')"
   ]
  },
  {
   "cell_type": "markdown",
   "metadata": {
    "slideshow": {
     "slide_type": "subslide"
    }
   },
   "source": [
    "## Review:  `*args` and `**kwargs` in function calls.  \n",
    "\n",
    "See Lutz, Table 18-1\n",
    "\n",
    "| Syntax | Action |\n",
    "|--------|--------|\n",
    "| `func(arg)` | Argument is matched by position |\n",
    "| `func(arg=value)` | Argument is matched by keyword |\n",
    "| `func(*args)` | Unpacks an iterable into individual positional args |\n",
    "| `func(**kwargs)` | Unpacks a dict into individual keyword args |\n",
    "\n",
    "Must appear in this order:\n",
    "* All positional arguments (`arg`)\n",
    "* Any combination of keyword arguments (`arg=value`) and upacked iterables (`*args`)\n",
    "* All unpacked dicts (`**kwargs`)"
   ]
  },
  {
   "cell_type": "markdown",
   "metadata": {
    "slideshow": {
     "slide_type": "subslide"
    }
   },
   "source": [
    "## Example:  Unpacking in `print()`"
   ]
  },
  {
   "cell_type": "markdown",
   "metadata": {},
   "source": [
    "Since `print` takes an arbitrary number of positional arguments, we can unpack iterables when we call it"
   ]
  },
  {
   "cell_type": "code",
   "execution_count": 29,
   "metadata": {},
   "outputs": [
    {
     "name": "stdout",
     "output_type": "stream",
     "text": [
      "foo and bar and baz\n"
     ]
    }
   ],
   "source": [
    "L = ['foo', 'bar', 'baz']\n",
    "print(*L, sep=' and ')"
   ]
  },
  {
   "cell_type": "markdown",
   "metadata": {},
   "source": [
    "We can also combine it with dict unpacking"
   ]
  },
  {
   "cell_type": "code",
   "execution_count": 30,
   "metadata": {},
   "outputs": [
    {
     "name": "stdout",
     "output_type": "stream",
     "text": [
      "foo and bar and baz!"
     ]
    }
   ],
   "source": [
    "delims = {'sep':' and ', 'end':'!'}\n",
    "print(*L, **delims)"
   ]
  },
  {
   "cell_type": "markdown",
   "metadata": {
    "slideshow": {
     "slide_type": "subslide"
    }
   },
   "source": [
    "## Arbitrary Args in Factory Function"
   ]
  },
  {
   "cell_type": "code",
   "execution_count": 8,
   "metadata": {},
   "outputs": [],
   "source": [
    "from datetime import datetime\n",
    "def make_timelogger(func):\n",
    "    times = []\n",
    "    def timelogger(*args, **kwargs):\n",
    "        times.append(datetime.now())\n",
    "        return func(*args, **kwargs)\n",
    "    return timelogger"
   ]
  },
  {
   "cell_type": "markdown",
   "metadata": {},
   "source": [
    "1. The factory function takes an arbitrary function (`func`) and returns a funcion instance.  \n",
    "2. Both `func` and `times` are in the closure of the returned function object.\n",
    "3. When you call the returned function object, it packs arbitrary arguments into `args` and `kwargs`.\n",
    "3. When `func` is called, `args` and `kwargs` are unpacked"
   ]
  },
  {
   "cell_type": "markdown",
   "metadata": {
    "slideshow": {
     "slide_type": "subslide"
    }
   },
   "source": [
    "## The Closure of the `print_logger`"
   ]
  },
  {
   "cell_type": "code",
   "execution_count": 9,
   "metadata": {},
   "outputs": [
    {
     "name": "stdout",
     "output_type": "stream",
     "text": [
      "Hello!\n",
      "What did you eat? wqeq\n",
      "Here's what you ate: wqeq\n"
     ]
    }
   ],
   "source": [
    "print_logger = make_timelogger(print)\n",
    "\n",
    "print_logger(\"Hello!\")\n",
    "foods = input(\"What did you eat? \").split()\n",
    "print_logger(\"Here's what you ate: \", end=\"\")\n",
    "print_logger(*foods, sep=', ')"
   ]
  },
  {
   "cell_type": "code",
   "execution_count": 33,
   "metadata": {},
   "outputs": [
    {
     "name": "stdout",
     "output_type": "stream",
     "text": [
      "func : <built-in function print>\n",
      "times : [datetime.datetime(2019, 10, 28, 16, 25, 57, 909938), datetime.datetime(2019, 10, 28, 16, 26, 4, 306518), datetime.datetime(2019, 10, 28, 16, 26, 4, 306661)]\n"
     ]
    }
   ],
   "source": [
    "for k, v in getclosurevars(print_logger).nonlocals.items():\n",
    "    print(k, v, sep=' : ')"
   ]
  },
  {
   "cell_type": "markdown",
   "metadata": {
    "slideshow": {
     "slide_type": "subslide"
    }
   },
   "source": [
    "## Making Your Own Function Attributes"
   ]
  },
  {
   "cell_type": "markdown",
   "metadata": {},
   "source": [
    "* For the user, it is not ideal to inspect the closure via the `__closure__` attribute or `getclosurevars` function\n",
    "* You can define your own attributes simply by assignment"
   ]
  },
  {
   "cell_type": "code",
   "execution_count": 10,
   "metadata": {},
   "outputs": [],
   "source": [
    "from datetime import datetime\n",
    "def make_timelogger(func):\n",
    "    times = []\n",
    "    def timelogger(*args, **kwargs):\n",
    "        times.append(datetime.now())\n",
    "        return func(*args, **kwargs)\n",
    "    timelogger.times = times\n",
    "    return timelogger"
   ]
  },
  {
   "cell_type": "markdown",
   "metadata": {
    "slideshow": {
     "slide_type": "subslide"
    }
   },
   "source": [
    "## Using Our Function Attribute"
   ]
  },
  {
   "cell_type": "code",
   "execution_count": 12,
   "metadata": {},
   "outputs": [
    {
     "name": "stdout",
     "output_type": "stream",
     "text": [
      "Hello!\n",
      "What did you eat? 2e1e 21e 11 \n",
      "Here's what you ate: 2e1e, 21e, 11\n"
     ]
    }
   ],
   "source": [
    "print_logger = make_timelogger(print)\n",
    "\n",
    "print_logger(\"Hello!\")\n",
    "foods = input(\"What did you eat? \").split()\n",
    "print_logger(\"Here's what you ate: \", end=\"\")\n",
    "print_logger(*foods, sep=', ')"
   ]
  },
  {
   "cell_type": "code",
   "execution_count": 36,
   "metadata": {},
   "outputs": [
    {
     "data": {
      "text/plain": [
       "[datetime.datetime(2019, 10, 28, 16, 26, 4, 340640),\n",
       " datetime.datetime(2019, 10, 28, 16, 26, 8, 502285),\n",
       " datetime.datetime(2019, 10, 28, 16, 26, 8, 502769)]"
      ]
     },
     "execution_count": 36,
     "metadata": {},
     "output_type": "execute_result"
    }
   ],
   "source": [
    "print_logger.times"
   ]
  },
  {
   "cell_type": "markdown",
   "metadata": {},
   "source": [
    "How would you display or return `times` and make it read-only?"
   ]
  }
 ],
 "metadata": {
  "celltoolbar": "Slideshow",
  "kernelspec": {
   "display_name": "Python 3",
   "language": "python",
   "name": "python3"
  },
  "language_info": {
   "codemirror_mode": {
    "name": "ipython",
    "version": 3
   },
   "file_extension": ".py",
   "mimetype": "text/x-python",
   "name": "python",
   "nbconvert_exporter": "python",
   "pygments_lexer": "ipython3",
   "version": "3.7.3"
  }
 },
 "nbformat": 4,
 "nbformat_minor": 1
}
