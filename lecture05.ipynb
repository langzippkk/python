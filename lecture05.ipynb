{
 "cells": [
  {
   "cell_type": "markdown",
   "metadata": {
    "collapsed": true,
    "slideshow": {
     "slide_type": "slide"
    }
   },
   "source": [
    "# MPCS 51042-2 Lecture 5\n",
    "# Classes and Object-Oriented Programming\n",
    "## Ron Rahaman - University of Chicago, Department of Computer Science\n",
    "## Nov 4, 2019"
   ]
  },
  {
   "cell_type": "markdown",
   "metadata": {
    "slideshow": {
     "slide_type": "slide"
    }
   },
   "source": [
    "# Class Basics"
   ]
  },
  {
   "cell_type": "markdown",
   "metadata": {
    "slideshow": {
     "slide_type": "subslide"
    }
   },
   "source": [
    "## What are classes?\n",
    "\n",
    "Group together data (*attributes*) and functions (*methods*):\n",
    "* Methods can access and modify the attribute\n",
    "* Since functions are first-class objects, methods are also considered attributes in Python\n",
    "\n",
    "Reasons to use classes:\n",
    "* Provides a \"blueprint\" for creating specific realizations (*instances*) of the data structure\n",
    "* Allows for code re-use and extension\n",
    "* Provides a layer of abstraction that can separate internal code from external code"
   ]
  },
  {
   "cell_type": "markdown",
   "metadata": {
    "slideshow": {
     "slide_type": "subslide"
    }
   },
   "source": [
    "## Classes\n",
    "\n",
    "Created with the ``class`` statement"
   ]
  },
  {
   "cell_type": "code",
   "execution_count": 1,
   "metadata": {},
   "outputs": [],
   "source": [
    "class Dog:\n",
    "    def __init__(self, breed):\n",
    "        self.breed = breed\n",
    "        \n",
    "    def bark(self):\n",
    "        print('Woof!')\n",
    "        \n",
    "    def show_breed(self):\n",
    "        print(self.breed)"
   ]
  },
  {
   "cell_type": "code",
   "execution_count": null,
   "metadata": {
    "slideshow": {
     "slide_type": "notes"
    }
   },
   "outputs": [],
   "source": []
  },
  {
   "cell_type": "markdown",
   "metadata": {},
   "source": [
    "* Do not exist until the `class` statement is executed\n",
    "* Creating a class creates a new name in the current scope\n",
    "* Can create another name that refers to the same class"
   ]
  },
  {
   "cell_type": "markdown",
   "metadata": {
    "slideshow": {
     "slide_type": "subslide"
    }
   },
   "source": [
    "## Classes and Instances\n",
    "\n",
    "* Defining a class is different than creating instances (*instantiating*) a class"
   ]
  },
  {
   "cell_type": "code",
   "execution_count": 2,
   "metadata": {},
   "outputs": [
    {
     "data": {
      "text/plain": [
       "('<__main__.Employee object at 0x10478b668>',\n",
       " '<__main__.Employee object at 0x10478b6a0>')"
      ]
     },
     "execution_count": 2,
     "metadata": {},
     "output_type": "execute_result"
    }
   ],
   "source": [
    "class Employee:\n",
    "    pass\n",
    "\n",
    "emp1 = Employee()\n",
    "emp2 = Employee()\n",
    "repr(emp1), repr(emp2)"
   ]
  },
  {
   "cell_type": "code",
   "execution_count": null,
   "metadata": {
    "slideshow": {
     "slide_type": "notes"
    }
   },
   "outputs": [],
   "source": [
    "every time you call it , you make an unuque instance."
   ]
  },
  {
   "cell_type": "markdown",
   "metadata": {},
   "source": [
    "* You create an instance using the call operator `()`\n",
    "* `emp1` and `emp2` are unique instances of the same class\n",
    "* Classes are essentially **factories** for creating multiple instances"
   ]
  },
  {
   "cell_type": "markdown",
   "metadata": {
    "slideshow": {
     "slide_type": "subslide"
    }
   },
   "source": [
    "## Dynamic attribute assignment\n",
    "\n",
    "* Python (usually) allows you to assign attributes to objects at runtime"
   ]
  },
  {
   "cell_type": "code",
   "execution_count": 3,
   "metadata": {},
   "outputs": [],
   "source": [
    "emp1 = Employee()\n",
    "emp1.first = 'Ron'\n",
    "emp1.last = 'Rahaman'\n",
    "emp1.email = 'rahaman@cs.uchicago.edu'\n",
    "emp1.pay = 500000"
   ]
  },
  {
   "cell_type": "markdown",
   "metadata": {},
   "source": [
    "* Convenient, but usually better to assign attributes when instance is created"
   ]
  },
  {
   "cell_type": "markdown",
   "metadata": {
    "slideshow": {
     "slide_type": "subslide"
    }
   },
   "source": [
    "## `__init__()` method\n",
    "\n",
    "`__init__()` can be used as a constructor"
   ]
  },
  {
   "cell_type": "code",
   "execution_count": 4,
   "metadata": {},
   "outputs": [],
   "source": [
    "class Employee:\n",
    "    def __init__(self, first, last, pay):\n",
    "        ..."
   ]
  },
  {
   "cell_type": "markdown",
   "metadata": {},
   "source": [
    "It is run automatically run **immediately after** an instance is created\n",
    "  * Methods surrounded by `--` are a \"special\" or \"dunder\" methods.  \n",
    "  * Dunder methods are used by the runtime\n",
    "\n",
    "Like other methods:\n",
    "  * The instance is passed as the first argument\n",
    "  * By convention, the argument is called `self`"
   ]
  },
  {
   "cell_type": "markdown",
   "metadata": {
    "slideshow": {
     "slide_type": "subslide"
    }
   },
   "source": [
    "## `__init__` method"
   ]
  },
  {
   "cell_type": "code",
   "execution_count": 4,
   "metadata": {},
   "outputs": [
    {
     "data": {
      "text/plain": [
       "('Ron.Rahaman@cs.uchicago.edu', 'Paul.Romano@cs.uchicago.edu')"
      ]
     },
     "execution_count": 4,
     "metadata": {},
     "output_type": "execute_result"
    }
   ],
   "source": [
    "class Employee:\n",
    "    def __init__(self, first, last, pay):\n",
    "        self.first = first\n",
    "        self.last = last\n",
    "        self.pay = pay\n",
    "        self.email = f'{first}.{last}@cs.uchicago.edu'\n",
    "        \n",
    "emp1 = Employee('Ron', 'Rahaman', 500000)\n",
    "emp2 = Employee('Paul', 'Romano', 600000)\n",
    "emp1.email, emp2.email"
   ]
  },
  {
   "cell_type": "markdown",
   "metadata": {},
   "source": [
    "* Before `__init__()` is called, a new instance is created\n",
    "* The instance is passed to `__init__()`\n",
    "* Resulting instance is returned from `Employee(...)` and assigned to the name on left-hand side "
   ]
  },
  {
   "cell_type": "markdown",
   "metadata": {
    "slideshow": {
     "slide_type": "subslide"
    }
   },
   "source": [
    "## Defining methods\n",
    "\n",
    "* Methods allow us to define new properties/behaviors\n",
    "* E.g., might want to get full name of an employee"
   ]
  },
  {
   "cell_type": "code",
   "execution_count": 6,
   "metadata": {},
   "outputs": [],
   "source": [
    "def full_name(emp):\n",
    "    return '{} {}'.format(emp.first, emp.last)"
   ]
  },
  {
   "cell_type": "markdown",
   "metadata": {},
   "source": [
    "* Better implemented as method on `Employee`"
   ]
  },
  {
   "cell_type": "code",
   "execution_count": 7,
   "metadata": {},
   "outputs": [],
   "source": [
    "class Employee:\n",
    "    ...\n",
    "    def full_name(self):\n",
    "        return '{} {}'.format(self.first, self.last)"
   ]
  },
  {
   "cell_type": "markdown",
   "metadata": {
    "slideshow": {
     "slide_type": "subslide"
    }
   },
   "source": [
    "## Defining  and using methods"
   ]
  },
  {
   "cell_type": "code",
   "execution_count": 7,
   "metadata": {
    "slideshow": {
     "slide_type": "-"
    }
   },
   "outputs": [],
   "source": [
    "class Employee:\n",
    "    def __init__(self, first, last, pay):\n",
    "        self.first = first\n",
    "        self.last = last\n",
    "        self.pay = pay\n",
    "        self.email = f'{first}.{last}@cs.uchicago.edu'\n",
    "        \n",
    "    def full_name(self):\n",
    "        return '{} {}'.format(self.first, self.last)"
   ]
  },
  {
   "cell_type": "markdown",
   "metadata": {},
   "source": [
    "When we call the method via the instance, the instance is implicitly passed as the first arg.  "
   ]
  },
  {
   "cell_type": "code",
   "execution_count": 9,
   "metadata": {
    "slideshow": {
     "slide_type": "-"
    }
   },
   "outputs": [
    {
     "data": {
      "text/plain": [
       "'Ron Rahaman'"
      ]
     },
     "execution_count": 9,
     "metadata": {},
     "output_type": "execute_result"
    }
   ],
   "source": [
    "emp1 = Employee('Ron', 'Rahaman', 500000)\n",
    "emp1.full_name()"
   ]
  },
  {
   "cell_type": "markdown",
   "metadata": {
    "slideshow": {
     "slide_type": "subslide"
    }
   },
   "source": [
    "## Reminders\n",
    "\n",
    "* Methods are functions.  To invoke them you must use parenthesis\n",
    "* Commmon mistake:  forgetting to put `self` as the first arg in method defintion"
   ]
  },
  {
   "cell_type": "markdown",
   "metadata": {
    "slideshow": {
     "slide_type": "slide"
    }
   },
   "source": [
    "# Methods are Objects\n",
    "## Lutz Ch 11"
   ]
  },
  {
   "cell_type": "markdown",
   "metadata": {
    "slideshow": {
     "slide_type": "subslide"
    }
   },
   "source": [
    "## Methods are Objects\n",
    "\n",
    "Like functions, methods are first-class objects\n",
    "* Can be assigned to names\n",
    "* Can be passed to functions\n",
    "* Can be stored in data structures\n",
    "* etc.\n",
    "Methods in python are very similar to functions except for two major differences. The method is implicitly used for an object for which it is called. The method is accessible to data that is contained within the class"
   ]
  },
  {
   "cell_type": "markdown",
   "metadata": {
    "slideshow": {
     "slide_type": "subslide"
    }
   },
   "source": [
    "## Bound Methods:  Accessing Methods via an Instance\n",
    "* Accessing a method via an instance returns a callable **bound method** object.  This object retains the instance in its state.  "
   ]
  },
  {
   "cell_type": "code",
   "execution_count": 10,
   "metadata": {},
   "outputs": [],
   "source": [
    "emp1 = Employee('Ron', 'Rahaman', 500000)\n",
    "fname = emp1.full_name\n",
    "\n",
    "## full name is a method in employee class..\n"
   ]
  },
  {
   "cell_type": "markdown",
   "metadata": {},
   "source": [
    "* Calling a bound method implicitly passes the instance as the first argument."
   ]
  },
  {
   "cell_type": "code",
   "execution_count": 9,
   "metadata": {},
   "outputs": [
    {
     "data": {
      "text/plain": [
       "'Ron Rahaman'"
      ]
     },
     "execution_count": 9,
     "metadata": {},
     "output_type": "execute_result"
    }
   ],
   "source": [
    "## this is calling the bound method.\n",
    "fname()"
   ]
  },
  {
   "cell_type": "markdown",
   "metadata": {},
   "source": [
    "* Typical usage does both these steps in one statement"
   ]
  },
  {
   "cell_type": "code",
   "execution_count": 12,
   "metadata": {},
   "outputs": [
    {
     "data": {
      "text/plain": [
       "'Ron Rahaman'"
      ]
     },
     "execution_count": 12,
     "metadata": {},
     "output_type": "execute_result"
    }
   ],
   "source": [
    "Employee.full_name(emp1)"
   ]
  },
  {
   "cell_type": "markdown",
   "metadata": {
    "slideshow": {
     "slide_type": "subslide"
    }
   },
   "source": [
    "# Accessing Methods via Class\n",
    "\n",
    "* Accessing a method via a name returns a normal function object\n",
    "    * In Python 2, this produced a special \"unbound method\" object, but in Python 3, it is not different from a normal function.  "
   ]
  },
  {
   "cell_type": "code",
   "execution_count": 13,
   "metadata": {
    "slideshow": {
     "slide_type": ""
    }
   },
   "outputs": [
    {
     "data": {
      "text/plain": [
       "<function __main__.Employee.full_name(self)>"
      ]
     },
     "execution_count": 13,
     "metadata": {},
     "output_type": "execute_result"
    }
   ],
   "source": [
    "Employee.full_name"
   ]
  },
  {
   "cell_type": "markdown",
   "metadata": {},
   "source": [
    "* When calling this, you must pass an instance as the first parameter"
   ]
  },
  {
   "cell_type": "code",
   "execution_count": 14,
   "metadata": {},
   "outputs": [
    {
     "data": {
      "text/plain": [
       "'Paul Romano'"
      ]
     },
     "execution_count": 14,
     "metadata": {},
     "output_type": "execute_result"
    }
   ],
   "source": [
    "emp2 = Employee('Paul', 'Romano', 600000)\n",
    "Employee.full_name(emp2)"
   ]
  },
  {
   "cell_type": "markdown",
   "metadata": {
    "slideshow": {
     "slide_type": "slide"
    }
   },
   "source": [
    "# Class Attributes"
   ]
  },
  {
   "cell_type": "markdown",
   "metadata": {
    "slideshow": {
     "slide_type": "subslide"
    }
   },
   "source": [
    "## Class Attributes\n",
    "* Instance attributes are unique to each instance.\n",
    "* Can also create **class attributes** that are shared across all instances\n",
    "\n",
    "Example: Suppose we want a method to give employees a raise:"
   ]
  },
  {
   "cell_type": "code",
   "execution_count": 15,
   "metadata": {},
   "outputs": [],
   "source": [
    "class Employee:\n",
    "    # Skipping methods from above\n",
    "    \n",
    "    def give_raise(self):\n",
    "        self.pay *= 1.05"
   ]
  },
  {
   "cell_type": "markdown",
   "metadata": {},
   "source": [
    "Instead of hard-coding the raise amount in the method, we can define a class attribute that will apply to all Employees"
   ]
  },
  {
   "cell_type": "code",
   "execution_count": 16,
   "metadata": {},
   "outputs": [],
   "source": [
    "class Employee:\n",
    "    raise_amount = 0.05\n",
    "    \n",
    "    def give_raise(self):\n",
    "        self.pay *= 1 + self.raise_amount"
   ]
  },
  {
   "cell_type": "markdown",
   "metadata": {
    "slideshow": {
     "slide_type": "subslide"
    }
   },
   "source": [
    "## Employee with Class Attribute"
   ]
  },
  {
   "cell_type": "code",
   "execution_count": 31,
   "metadata": {},
   "outputs": [],
   "source": [
    "class Employee:\n",
    "    \n",
    "    raise_amount = 0.05\n",
    "    \n",
    "    def __init__(self, first, last, pay):\n",
    "        self.first = first\n",
    "        self.last = last\n",
    "        self.pay = pay\n",
    "        self.email = f'{first}.{last}@cs.uchicago.edu'\n",
    "        \n",
    "    def full_name(self):\n",
    "        return '{} {}'.format(self.first, self.last)\n",
    "    \n",
    "    def give_raise(self):\n",
    "        self.pay *= 1 + self.raise_amount"
   ]
  },
  {
   "cell_type": "markdown",
   "metadata": {},
   "source": [
    "Why can we use similar syntax to access the instance attribute (`self.pay`) and class attribute (`self.raise_amount`)?  \n",
    "\n",
    "\n",
    "self is the instance of the class: self.first creating a attribute of self(instance)\n",
    "\n",
    "class attribute is available to all method of the class."
   ]
  },
  {
   "cell_type": "markdown",
   "metadata": {
    "slideshow": {
     "slide_type": "slide"
    }
   },
   "source": [
    "# Namespace Searches in Detail \n",
    "## (Lutz Ch 29)"
   ]
  },
  {
   "cell_type": "markdown",
   "metadata": {
    "slideshow": {
     "slide_type": "subslide"
    }
   },
   "source": [
    "## Simple Names (Unqualified)\n",
    "\n",
    "These are the rules you encountered before:\n",
    "* **Assignment** (`X = 'foo'`):  By default, creates a local name (if doesn't exsist) or changes the reference of a local name (if it exists).  Can qualify with `global` or `nonlocal` to refer to outside scopes.\n",
    "* **Reference** (`X`): Searches copes in this order (LEGB)\n",
    "  1. Local scope\n",
    "  2. Enclosing scopes\n",
    "  3. Global (module) scope\n",
    "  4. Built-in names\n"
   ]
  },
  {
   "cell_type": "markdown",
   "metadata": {
    "slideshow": {
     "slide_type": "subslide"
    }
   },
   "source": [
    "## Attribute Names (Qualified)\n",
    "\n",
    "These are the ruls for attribute access (including methods):\n",
    "\n",
    "* **Assignment** (`obj.X = 'foo'`):\n",
    "  * Creates the name `X` in the namespace of `obj` (if doesn't exist) or changes the reference of `X` in the namespace of `obj` (if it exists)\n",
    "  * Does not search other scopes or inheritance tree\n",
    "* **Reference** (`obj.X`): \n",
    "  * Searches inheritance tree but not other scopes"
   ]
  },
  {
   "cell_type": "markdown",
   "metadata": {
    "slideshow": {
     "slide_type": "subslide"
    }
   },
   "source": [
    "## The Inheritance Tree (Lutz Fig 29-1)\n",
    "\n",
    "Searches for the name `object.attr` from top to bottom and returns first one that's found.\n",
    "\n",
    "![alt text](img/tree.png \"Logo Title Text 1\")"
   ]
  },
  {
   "cell_type": "markdown",
   "metadata": {
    "slideshow": {
     "slide_type": "subslide"
    }
   },
   "source": [
    "## Class vs. Instance Namespaces\n",
    "* Setting an attribute on an instance will **shadow** any attribute on the class"
   ]
  },
  {
   "cell_type": "code",
   "execution_count": 32,
   "metadata": {},
   "outputs": [],
   "source": [
    "emp1 = Employee('Ron', 'Rahaman', 500000)\n",
    "emp2 = Employee('Paul', 'Romano', 600000)"
   ]
  },
  {
   "cell_type": "markdown",
   "metadata": {},
   "source": [
    "What happened here?"
   ]
  },
  {
   "cell_type": "code",
   "execution_count": 33,
   "metadata": {},
   "outputs": [
    {
     "data": {
      "text/plain": [
       "(0.05, 0.1)"
      ]
     },
     "execution_count": 33,
     "metadata": {},
     "output_type": "execute_result"
    }
   ],
   "source": [
    "emp2.raise_amount = 0.10\n",
    "emp1.raise_amount, emp2.raise_amount"
   ]
  },
  {
   "cell_type": "markdown",
   "metadata": {},
   "source": [
    "Now what happened here?\n",
    "\n",
    "\n",
    "An instance attribute is a Python variable belonging to one, and only one, object. This variable is only accessible in the scope of this object and it is defined inside the constructor function, __init__(self,..) of the class.\n",
    "\n",
    "A class attribute is a Python variable that belongs to a class rather than a particular object. It is shared between all the objects of this class and it is defined outside the constructor function, __init__(self,...), of the class"
   ]
  },
  {
   "cell_type": "code",
   "execution_count": 30,
   "metadata": {
    "slideshow": {
     "slide_type": "-"
    }
   },
   "outputs": [
    {
     "data": {
      "text/plain": [
       "(0.08, 0.1)"
      ]
     },
     "execution_count": 30,
     "metadata": {},
     "output_type": "execute_result"
    }
   ],
   "source": [
    "Employee.raise_amount = 0.08\n",
    "emp1.raise_amount, emp2.raise_amount"
   ]
  },
  {
   "cell_type": "code",
   "execution_count": 14,
   "metadata": {
    "slideshow": {
     "slide_type": "skip"
    }
   },
   "outputs": [
    {
     "ename": "SyntaxError",
     "evalue": "invalid syntax (<ipython-input-14-773631e51191>, line 1)",
     "output_type": "error",
     "traceback": [
      "\u001b[1;36m  File \u001b[1;32m\"<ipython-input-14-773631e51191>\"\u001b[1;36m, line \u001b[1;32m1\u001b[0m\n\u001b[1;33m    emp2.raise_amount = 0.1 create a instance attribute\u001b[0m\n\u001b[1;37m                                 ^\u001b[0m\n\u001b[1;31mSyntaxError\u001b[0m\u001b[1;31m:\u001b[0m invalid syntax\n"
     ]
    }
   ],
   "source": [
    "emp2.raise_amount = 0.1 create a instance attribute\n",
    "Employee.raise_amount change the class attribute. But cannot change the instance."
   ]
  },
  {
   "cell_type": "markdown",
   "metadata": {
    "slideshow": {
     "slide_type": "subslide"
    }
   },
   "source": [
    "## Revisiting our Class Attribute\n",
    "In `give_raise()`, we could get different behavior if we use `Employee.raise_amount` or `self.raise_amount`\n",
    "\n",
    "* This can refer to either the class or instance attribute, depending on what is defined.  "
   ]
  },
  {
   "cell_type": "code",
   "execution_count": 21,
   "metadata": {},
   "outputs": [],
   "source": [
    "class Employee:\n",
    "    raise_amount = 0.05\n",
    "    \n",
    "    def give_raise(self):\n",
    "        self.pay *= 1 + self.raise_amount"
   ]
  },
  {
   "cell_type": "markdown",
   "metadata": {},
   "source": [
    "* This always refers to the class attribute"
   ]
  },
  {
   "cell_type": "code",
   "execution_count": 22,
   "metadata": {},
   "outputs": [],
   "source": [
    "class Employee:\n",
    "    raise_amount = 0.05\n",
    "    \n",
    "    def give_raise(self):\n",
    "        self.pay *= 1 + Employee.raise_amount"
   ]
  },
  {
   "cell_type": "markdown",
   "metadata": {
    "slideshow": {
     "slide_type": "subslide"
    }
   },
   "source": [
    "## Another Class Attribute\n",
    "\n",
    "Here we can only use Employee.num_employees since we do not want shadowing.\n",
    "\n",
    "say ron.num_employee"
   ]
  },
  {
   "cell_type": "code",
   "execution_count": 23,
   "metadata": {},
   "outputs": [],
   "source": [
    "class Employee:\n",
    "    \n",
    "    num_employees = 0\n",
    "    \n",
    "    def __init__(self, first, last, pay):\n",
    "        Employee.num_employees += 1\n",
    "        # The rest of constructor"
   ]
  },
  {
   "cell_type": "markdown",
   "metadata": {
    "slideshow": {
     "slide_type": "subslide"
    }
   },
   "source": [
    "## Class Methods\n",
    "\n",
    "Python has three types of methods\n",
    "1. **Instance methods:** receive a specific instance as first argument like \"self\"\n",
    "2. **Class methods:** receive the class as the first argument, like \"cls\"\n",
    "3. **Static methods:** no special first argument\n",
    "\n",
    "To create a class method, use the `@classmethod` decorator.  First arg is name `cls` by convention.  "
   ]
  },
  {
   "cell_type": "code",
   "execution_count": 24,
   "metadata": {},
   "outputs": [],
   "source": [
    "class Employee:\n",
    "    raise_amount = 0.05\n",
    "    \n",
    "    @classmethod\n",
    "    def set_raise(cls, amount):\n",
    "        cls.raise_amount = amount\n",
    "        \n",
    "        \n"
   ]
  },
  {
   "cell_type": "markdown",
   "metadata": {
    "slideshow": {
     "slide_type": "subslide"
    }
   },
   "source": [
    "## \"Alternate\" Constructors\n",
    "\n",
    "Class methods are often used to provide alternate constructors\n",
    "\n",
    "Example:  Suppose we want to create employees based on some formatted string input"
   ]
  },
  {
   "cell_type": "code",
   "execution_count": null,
   "metadata": {},
   "outputs": [],
   "source": [
    "emp1str = 'Ron;Rahaman;500000'\n",
    "emp2str = 'Paul;Romano;600000'\n",
    "emp3str = 'Andrew;Siegel;700000'\n",
    "\n",
    "first, last, pay = emp1str.split(';')\n",
    "ron = Employee(first, last, pay)\n",
    "# etc..."
   ]
  },
  {
   "cell_type": "markdown",
   "metadata": {
    "slideshow": {
     "slide_type": "subslide"
    }
   },
   "source": [
    "## \"Alternate\" Constructors\n",
    "\n",
    "Unlike `__init__`, our class method has to return a new instance"
   ]
  },
  {
   "cell_type": "code",
   "execution_count": 37,
   "metadata": {},
   "outputs": [],
   "source": [
    "class Employee:\n",
    "    def __init__(self, first, last, pay):\n",
    "        self.first = first\n",
    "        self.last = last\n",
    "        self.pay = pay\n",
    "        self.email = f'{first}.{last}@cs.uchicago.edu'\n",
    "    \n",
    "    @classmethod\n",
    "    def fromstring(cls, string):\n",
    "        first, last, pay = string.split(';') \n",
    "        return cls(first, last, pay)"
   ]
  },
  {
   "cell_type": "code",
   "execution_count": 29,
   "metadata": {},
   "outputs": [
    {
     "data": {
      "text/plain": [
       "('Ron.Rahaman@cs.uchicago.edu', 'Paul.Romano@cs.uchicago.edu')"
      ]
     },
     "execution_count": 29,
     "metadata": {},
     "output_type": "execute_result"
    }
   ],
   "source": [
    "ron = Employee.fromstring(emp1str)\n",
    "paul = Employee.fromstring(emp2str)\n",
    "ron.email, paul.email"
   ]
  },
  {
   "cell_type": "markdown",
   "metadata": {
    "slideshow": {
     "slide_type": "subslide"
    }
   },
   "source": [
    "## Class Methods in Standard Library\n",
    "\n",
    "* Builtins and standard library\n",
    "  * `int.from_bytes()`\n",
    "  * `float.fromhex()`\n",
    "  * `datetime.date.fromtimestamp()`\n",
    "  * many more..."
   ]
  },
  {
   "cell_type": "markdown",
   "metadata": {
    "slideshow": {
     "slide_type": "subslide"
    }
   },
   "source": [
    "## Static Methods\n",
    "* Do not receive any special arguments\n",
    "* Are normal functions, not bound methods\n",
    "* Usually have some logical connetion to class itself\n",
    "* Use sparingly!"
   ]
  },
  {
   "cell_type": "code",
   "execution_count": 30,
   "metadata": {},
   "outputs": [],
   "source": [
    "class Employee:\n",
    "    @staticmethod\n",
    "    def email_from_string(string):\n",
    "        first, last, pay = string.split(';') \n",
    "        return f'{first}.{last}@uchicago.edu'"
   ]
  },
  {
   "cell_type": "markdown",
   "metadata": {
    "slideshow": {
     "slide_type": "slide"
    }
   },
   "source": [
    "# Extended Example:  Namespaces"
   ]
  },
  {
   "cell_type": "markdown",
   "metadata": {
    "slideshow": {
     "slide_type": "subslide"
    }
   },
   "source": [
    "## Example:  Creating Lots of Names"
   ]
  },
  {
   "cell_type": "code",
   "execution_count": 11,
   "metadata": {},
   "outputs": [],
   "source": [
    "X= 11          # 1\n",
    "\n",
    "def f(): \n",
    "    print(X)   # 2\n",
    "\n",
    "def g():\n",
    "    X = 22     # 3\n",
    "    print(X)   # 4\n",
    "\n",
    "class C:\n",
    "    X = 33            # 5\n",
    "    def m(self): \n",
    "        X = 44        # 6\n",
    "        self.X = 55   # 7"
   ]
  },
  {
   "cell_type": "markdown",
   "metadata": {
    "slideshow": {
     "slide_type": "subslide"
    }
   },
   "source": [
    "## Example:  Creating Lots of Names"
   ]
  },
  {
   "cell_type": "code",
   "execution_count": 12,
   "metadata": {},
   "outputs": [],
   "source": [
    "X= 11          # Creates global name\n",
    "\n",
    "def f(): \n",
    "    print(X)   # References global name\n",
    "\n",
    "def g():\n",
    "    X = 22     # Creates local name (shadows\" global X)\n",
    "    print(X)   # References local name\n",
    "\n",
    "class C:\n",
    "    X = 33            # Creates class attribute\n",
    "    def m(self): \n",
    "        X = 44        # Creates local name\n",
    "        self.X = 55   # Creates instance attribute"
   ]
  },
  {
   "cell_type": "markdown",
   "metadata": {
    "slideshow": {
     "slide_type": "subslide"
    }
   },
   "source": [
    "## Example:  Referencing Lots of Names"
   ]
  },
  {
   "cell_type": "code",
   "execution_count": 13,
   "metadata": {},
   "outputs": [
    {
     "name": "stdout",
     "output_type": "stream",
     "text": [
      "11\n",
      "11\n",
      "22\n",
      "11\n",
      "33\n",
      "55\n",
      "33\n"
     ]
    }
   ],
   "source": [
    "print(X)      # 1\n",
    "f()           # 2\n",
    "g()           # 3\n",
    "print(X)      # 4\n",
    "    \n",
    "obj = C()     # 5\n",
    "print(obj.X)  # 6\n",
    "    \n",
    "obj.m()       # 7\n",
    "print(obj.X)  # 8\n",
    "print(C.X)    # 9"
   ]
  },
  {
   "cell_type": "markdown",
   "metadata": {
    "slideshow": {
     "slide_type": "subslide"
    }
   },
   "source": [
    "## Example:  Referencing  Lots of Names"
   ]
  },
  {
   "cell_type": "code",
   "execution_count": 34,
   "metadata": {},
   "outputs": [
    {
     "name": "stdout",
     "output_type": "stream",
     "text": [
      "11\n",
      "11\n",
      "22\n",
      "11\n",
      "33\n",
      "55\n",
      "33\n"
     ]
    }
   ],
   "source": [
    "print(X)      # 11: global\n",
    "f()           # 11: global\n",
    "g()           # 22: local\n",
    "print(X)      # 11: global name unchanged\n",
    "    \n",
    "obj = C()     # Make instance\n",
    "print(obj.X)  # 33: class name inherited by instance\n",
    "    \n",
    "obj.m()       # Attach attribute name X to instance now \n",
    "print(obj.X)  # 55: instance\n",
    "print(C.X)    # 33: class (a.k.a. obj.X if no X in instance)"
   ]
  },
  {
   "cell_type": "markdown",
   "metadata": {
    "slideshow": {
     "slide_type": "slide"
    }
   },
   "source": [
    "# Inheritance and Polymorphism"
   ]
  },
  {
   "cell_type": "markdown",
   "metadata": {
    "slideshow": {
     "slide_type": "subslide"
    }
   },
   "source": [
    "## Inheritance\n",
    "\n",
    "**Inheritance** allows us to define new classes that \"inherit\" the attributes defined in another class\n",
    "\n",
    "Subclasses can extend/modify the functionality of the parent (base) class\n",
    "\n",
    "Maximizes code re-use and expresses logical relationships"
   ]
  },
  {
   "cell_type": "markdown",
   "metadata": {
    "slideshow": {
     "slide_type": "subslide"
    }
   },
   "source": [
    "## Inheritance: Example\n",
    "\n",
    "Base class is defined in parentheses after class:"
   ]
  },
  {
   "cell_type": "code",
   "execution_count": 41,
   "metadata": {
    "slideshow": {
     "slide_type": "skip"
    }
   },
   "outputs": [],
   "source": [
    "class Employee:\n",
    "    \n",
    "    raise_amount = 0.05\n",
    "    \n",
    "    def __init__(self, first, last, pay):\n",
    "        self.first = first\n",
    "        self.last = last\n",
    "        self.pay = pay\n",
    "        self.email = f'{first}.{last}@cs.uchicago.edu'\n",
    "        \n",
    "    def full_name(self):\n",
    "        return '{} {}'.format(self.first, self.last)\n",
    "    \n",
    "    def give_raise(self):\n",
    "        self.pay *= 1 + self.raise_amount"
   ]
  },
  {
   "cell_type": "code",
   "execution_count": 45,
   "metadata": {},
   "outputs": [
    {
     "data": {
      "text/plain": [
       "'Dennis.Ritchie@cs.uchicago.edu'"
      ]
     },
     "execution_count": 45,
     "metadata": {},
     "output_type": "execute_result"
    }
   ],
   "source": [
    "class Developer(Employee):\n",
    "    pass\n",
    "\n",
    "dev1 = Developer(\"Dennis\", \"Ritchie\", 1000000)\n",
    "dev1.email"
   ]
  },
  {
   "cell_type": "markdown",
   "metadata": {},
   "source": [
    "* Even though we haven't defined `Developer.__init__`, we inherited `Employee.__init__`"
   ]
  },
  {
   "cell_type": "markdown",
   "metadata": {
    "slideshow": {
     "slide_type": "subslide"
    }
   },
   "source": [
    "## Method Resolution Order (MRO)\n",
    "\n",
    "* When you try to call a method on a class, Python searches the inheritance tree uses the first one it finds\n",
    "* This search is called the **method resolution order**\n",
    "* We can actually see the MRO using the help method"
   ]
  },
  {
   "cell_type": "code",
   "execution_count": 43,
   "metadata": {},
   "outputs": [
    {
     "name": "stdout",
     "output_type": "stream",
     "text": [
      "Help on class Developer in module __main__:\n",
      "\n",
      "class Developer(Employee)\n",
      " |  Developer(first, last, pay)\n",
      " |  \n",
      " |  Method resolution order:\n",
      " |      Developer\n",
      " |      Employee\n",
      " |      builtins.object\n",
      " |  \n",
      " |  Methods inherited from Employee:\n",
      " |  \n",
      " |  __init__(self, first, last, pay)\n",
      " |      Initialize self.  See help(type(self)) for accurate signature.\n",
      " |  \n",
      " |  full_name(self)\n",
      " |  \n",
      " |  give_raise(self)\n",
      " |  \n",
      " |  ----------------------------------------------------------------------\n",
      " |  Data descriptors inherited from Employee:\n",
      " |  \n",
      " |  __dict__\n",
      " |      dictionary for instance variables (if defined)\n",
      " |  \n",
      " |  __weakref__\n",
      " |      list of weak references to the object (if defined)\n",
      " |  \n",
      " |  ----------------------------------------------------------------------\n",
      " |  Data and other attributes inherited from Employee:\n",
      " |  \n",
      " |  raise_amount = 0.05\n",
      "\n"
     ]
    }
   ],
   "source": [
    "help(Developer)"
   ]
  },
  {
   "cell_type": "markdown",
   "metadata": {
    "slideshow": {
     "slide_type": "subslide"
    }
   },
   "source": [
    "## Customizing (or Overriding) Behavior\n",
    "\n",
    "Class attributes (incl. methods) can be easily overriden in subclasses"
   ]
  },
  {
   "cell_type": "code",
   "execution_count": 48,
   "metadata": {},
   "outputs": [],
   "source": [
    "class Developer(Employee):\n",
    "    raise_amount = 0.50"
   ]
  },
  {
   "cell_type": "code",
   "execution_count": 53,
   "metadata": {},
   "outputs": [],
   "source": [
    "ron = Employee('Ron', 'Rahaman', 200000)\n",
    "dennis = Developer('Dennis', 'Ritchie', 1000000)"
   ]
  },
  {
   "cell_type": "code",
   "execution_count": 54,
   "metadata": {},
   "outputs": [
    {
     "data": {
      "text/plain": [
       "(210000.0, 1500000.0)"
      ]
     },
     "execution_count": 54,
     "metadata": {},
     "output_type": "execute_result"
    }
   ],
   "source": [
    "ron.give_raise(), dennis.give_raise()\n",
    "ron.pay, dennis.pay"
   ]
  },
  {
   "cell_type": "markdown",
   "metadata": {},
   "source": [
    "Overriding is a consequence of the MRO (or inheritance tree):\n",
    "* Named defined in a subclass **shadow** the names defined in the parent class\n",
    "* The base class is unaffected"
   ]
  },
  {
   "cell_type": "markdown",
   "metadata": {
    "slideshow": {
     "slide_type": "subslide"
    }
   },
   "source": [
    "## Extending Behavior\n",
    "\n",
    "Often, we'll need to call a method of a base class that is shadowed by the subclass\n",
    "\n",
    "For example, suppose we wanted to extend `Developer`'s constructor to specify a primary language"
   ]
  },
  {
   "cell_type": "code",
   "execution_count": 40,
   "metadata": {},
   "outputs": [],
   "source": [
    "class Developer(Employee):\n",
    "    def __init__(self, first, last, pay, language):\n",
    "        self.first = first\n",
    "        self.last = last\n",
    "        self.pay = pay\n",
    "        self.email = f'{first}.{last}@uchicago.edu'\n",
    "        \n",
    "        self.language = language"
   ]
  },
  {
   "cell_type": "markdown",
   "metadata": {
    "slideshow": {
     "slide_type": "subslide"
    }
   },
   "source": [
    "## Using `super()`\n",
    "\n",
    "`super()` allows us to access attributes of the base class"
   ]
  },
  {
   "cell_type": "code",
   "execution_count": null,
   "metadata": {},
   "outputs": [],
   "source": [
    "class Developer(Employee):\n",
    "    def __init__(self, first, last, pay, language):\n",
    "        super().__init__(first, last, pay)\n",
    "        self.language = language"
   ]
  },
  {
   "cell_type": "markdown",
   "metadata": {},
   "source": [
    "* **Important:  `super()` does not return a class**\n",
    "  * Instead, it gives us an instance (`self`) with a modified MRO.  \n",
    "  * Don't need to pass `self` when calling bound methods.  \n",
    "  * Foolproof except for extremely specialized inheritance (e.g., multiple inheritance):\n",
    "    * [Python's `super()` Considered Harmful](https://fuhm.net/super-harmful/)\n",
    "    * [Python's `super()` considered super!](https://rhettinger.wordpress.com/2011/05/26/super-considered-super/)\n",
    "  "
   ]
  },
  {
   "cell_type": "markdown",
   "metadata": {
    "slideshow": {
     "slide_type": "subslide"
    }
   },
   "source": [
    "## Dynamic Type Checking\n",
    "\n",
    "* Can use `isinstance()` builtin to determine if an object is an instance of a particular class"
   ]
  },
  {
   "cell_type": "code",
   "execution_count": 55,
   "metadata": {},
   "outputs": [
    {
     "data": {
      "text/plain": [
       "True"
      ]
     },
     "execution_count": 55,
     "metadata": {},
     "output_type": "execute_result"
    }
   ],
   "source": [
    "isinstance(dennis, Developer)"
   ]
  },
  {
   "cell_type": "code",
   "execution_count": 56,
   "metadata": {},
   "outputs": [
    {
     "data": {
      "text/plain": [
       "True"
      ]
     },
     "execution_count": 56,
     "metadata": {},
     "output_type": "execute_result"
    }
   ],
   "source": [
    "isinstance(dennis, Employee)"
   ]
  },
  {
   "cell_type": "code",
   "execution_count": 57,
   "metadata": {},
   "outputs": [
    {
     "data": {
      "text/plain": [
       "False"
      ]
     },
     "execution_count": 57,
     "metadata": {},
     "output_type": "execute_result"
    }
   ],
   "source": [
    "isinstance(dennis, float)"
   ]
  },
  {
   "cell_type": "markdown",
   "metadata": {},
   "source": [
    "* Generally discouraged in favor of *duck typing*"
   ]
  },
  {
   "cell_type": "markdown",
   "metadata": {
    "slideshow": {
     "slide_type": "slide"
    }
   },
   "source": [
    "# Abstract Base Classes"
   ]
  },
  {
   "cell_type": "markdown",
   "metadata": {
    "slideshow": {
     "slide_type": "subslide"
    }
   },
   "source": [
    "## Abstract Class\n",
    "\n",
    "* An **abstract class** is a class that cannot be instantiated\n",
    "* Used to define an **interface** (methods and attributes) which a subclass is expected to implement\n",
    "* A **concreate class** is a subclass of an abstract class that implements the required interface\n",
    "* **Abstract method** are methods that must be implemented in the concrete class.  "
   ]
  },
  {
   "cell_type": "markdown",
   "metadata": {
    "slideshow": {
     "slide_type": "subslide"
    }
   },
   "source": [
    "## ABCs\n",
    "\n",
    "The `abc` module provides functionality for defining abstract base classes (ABCs)\n",
    "* Inheriting from the `ABC` class\n",
    "* Using the `abstractmethod` decorator to define abstract methods\n",
    "\n",
    "\n",
    "An abstract class can be considered as a blueprint for other classes, allows you to create a set of methods that must be created within any child classes built from your abstract class. "
   ]
  },
  {
   "cell_type": "code",
   "execution_count": 36,
   "metadata": {},
   "outputs": [],
   "source": [
    "from abc import ABC, abstractmethod\n",
    "\n",
    "class Shape(ABC):\n",
    "    @abstractmethod\n",
    "    def area(self):\n",
    "        pass"
   ]
  },
  {
   "cell_type": "markdown",
   "metadata": {
    "slideshow": {
     "slide_type": "subslide"
    }
   },
   "source": [
    "## A Concrete Class\n",
    "\n",
    "A fully-implemented concrete class looks just a normal subclass."
   ]
  },
  {
   "cell_type": "code",
   "execution_count": 59,
   "metadata": {},
   "outputs": [
    {
     "data": {
      "text/plain": [
       "16"
      ]
     },
     "execution_count": 59,
     "metadata": {},
     "output_type": "execute_result"
    }
   ],
   "source": [
    "class Square(Shape):\n",
    "    def __init__(self, width):\n",
    "        self.width = width\n",
    "    def area(self):\n",
    "        return self.width**2\n",
    "    \n",
    "s = Square(4)\n",
    "s.area()"
   ]
  },
  {
   "cell_type": "markdown",
   "metadata": {
    "slideshow": {
     "slide_type": "subslide"
    }
   },
   "source": [
    "## An Incomplete Concrete Class\n",
    "\n",
    "* This concrete class is incomplete.  It does not define the abstract method `area`.  \n",
    "* An error is raised when **instantiating** a `Circle` (not when defining the `Circle` class)"
   ]
  },
  {
   "cell_type": "code",
   "execution_count": 60,
   "metadata": {},
   "outputs": [
    {
     "ename": "TypeError",
     "evalue": "Can't instantiate abstract class Circle with abstract methods area",
     "output_type": "error",
     "traceback": [
      "\u001b[0;31m---------------------------------------------------------------------------\u001b[0m",
      "\u001b[0;31mTypeError\u001b[0m                                 Traceback (most recent call last)",
      "\u001b[0;32m<ipython-input-60-7fbb28d814ec>\u001b[0m in \u001b[0;36m<module>\u001b[0;34m\u001b[0m\n\u001b[1;32m      3\u001b[0m         \u001b[0mself\u001b[0m\u001b[0;34m.\u001b[0m\u001b[0mradius\u001b[0m \u001b[0;34m=\u001b[0m \u001b[0mradius\u001b[0m\u001b[0;34m\u001b[0m\u001b[0;34m\u001b[0m\u001b[0m\n\u001b[1;32m      4\u001b[0m \u001b[0;34m\u001b[0m\u001b[0m\n\u001b[0;32m----> 5\u001b[0;31m \u001b[0mc\u001b[0m \u001b[0;34m=\u001b[0m \u001b[0mCircle\u001b[0m\u001b[0;34m(\u001b[0m\u001b[0;36m4\u001b[0m\u001b[0;34m)\u001b[0m\u001b[0;34m\u001b[0m\u001b[0;34m\u001b[0m\u001b[0m\n\u001b[0m",
      "\u001b[0;31mTypeError\u001b[0m: Can't instantiate abstract class Circle with abstract methods area"
     ]
    }
   ],
   "source": [
    "class Circle(Shape):\n",
    "    def __init__(self, radius):\n",
    "        self.radius = radius\n",
    "        \n",
    "c = Circle(4)"
   ]
  },
  {
   "cell_type": "markdown",
   "metadata": {
    "slideshow": {
     "slide_type": "slide"
    }
   },
   "source": [
    "# Collections"
   ]
  },
  {
   "cell_type": "markdown",
   "metadata": {
    "slideshow": {
     "slide_type": "subslide"
    }
   },
   "source": [
    "## `collections.abc`\n",
    "\n",
    "* The `collections` module provides ABCs for data structures that act like built-in containers (lists, tuples, dicts, sets, ranges, etc.)\n",
    "\n",
    "* Each ABC has abstract methods for the special methods that each containers requires\n",
    "\n",
    "* Essential references in Python Docs:\n",
    "  * [\"`collections.abc` -- Abstract Base Classes for Containers\"](https://docs.python.org/3/library/collections.abc.html#module-collections.abc):  Describes the ABCs\n",
    "  * [\"Emulating Container Types\"](https://docs.python.org/3/reference/datamodel.html#emulating-container-types): Describes the special methods for collections\n",
    "  \n",
    "* Advanced references:\n",
    "  * Ramalho, Ch 1: \"The Python Data Model\"\n",
    "  * Ramalho, Ch 9: \"A Pythonic Object\"\n",
    "  * Ramalho, Ch 10: \"Sequence Hacking, Hashing, Slicing\"\n",
    "  * Ramalho, Ch 11: \"Interfaces: From Protocols to ABCs\""
   ]
  },
  {
   "cell_type": "markdown",
   "metadata": {
    "slideshow": {
     "slide_type": "subslide"
    }
   },
   "source": [
    "## The ABCs in Collections (Ramalho Fig 11-3)\n",
    "\n",
    "![Collections](img/collections.png \"Collections\")"
   ]
  },
  {
   "cell_type": "markdown",
   "metadata": {
    "slideshow": {
     "slide_type": "subslide"
    }
   },
   "source": [
    "## Overview of Collections (Lutz Ch 11, \"ABCs in collections.abc\")\n",
    "\n",
    "* `Iterable`, `Container`, and `Sized`:  support iteration, membership (`in` operator), and length (`len` function), respectively\n",
    "\n",
    "* `Sequence`, `Mapping`, and `Set`:  Immutable types.  Behave like tuple, hypothetical `frozendict`, and `frozenset`.  \n",
    "\n",
    "* `MutableSequence`, `MutableMapping`, `MutableSet`: Behave like list, dict, and set\n",
    "\n",
    "* `MappingView`:  Behave like `items()`, `keys()`, and `values()` dict methods\n"
   ]
  },
  {
   "cell_type": "markdown",
   "metadata": {
    "slideshow": {
     "slide_type": "subslide"
    }
   },
   "source": [
    "# Example: A File as a `Sequence`\n",
    "\n",
    "Suppose we want to support as an indexable, read-only sequence.  We can implement it as a `MutableSequence` with the methods:\n",
    "* [**`__len__(self)`**](https://docs.python.org/3/reference/datamodel.html#object.__len__):  Allows evaluation of `len(self)`.  Expected to be an integer $\\ge$ 0.  \n",
    "* [**`__getitem__(self, key)`**](https://docs.python.org/3/reference/datamodel.html#object.__getitem__): Allows reference to `self[key]`.  Implementor can define `TypeError`, `IndexError`, and/or `KeyError`, when applicable. \n",
    "\n",
    "To implement it, we will refer to [\"Methods of File Objects\"](https://docs.python.org/3/tutorial/inputoutput.html#methods-of-file-objects) from the docs"
   ]
  },
  {
   "cell_type": "markdown",
   "metadata": {
    "slideshow": {
     "slide_type": "subslide"
    }
   },
   "source": [
    "## Example: A File as a `Sequence`\n",
    "\n",
    "* We dispatch the operaitons to an internal list\n",
    "* Note that the argument names are arbitrary; just need to provide the correct number of args and correct functionality"
   ]
  },
  {
   "cell_type": "code",
   "execution_count": 71,
   "metadata": {},
   "outputs": [],
   "source": [
    "from collections.abc import Sequence\n",
    "\n",
    "class FileSequence(Sequence):\n",
    "    def __init__(self, filename):\n",
    "        self.filename = filename\n",
    "        \n",
    "    def __len__(self):\n",
    "        with open(self.filename, 'r') as f:\n",
    "            L = f.readlines()\n",
    "            res = len(L)\n",
    "        return res\n",
    "    \n",
    "    def __getitem__(self, idx):\n",
    "        with open(self.filename, 'r') as f:\n",
    "            L = f.readlines()\n",
    "            res = L[idx]\n",
    "        return res"
   ]
  },
  {
   "cell_type": "markdown",
   "metadata": {
    "slideshow": {
     "slide_type": "subslide"
    }
   },
   "source": [
    "## Example: A File as a `Sequence`"
   ]
  },
  {
   "cell_type": "code",
   "execution_count": 72,
   "metadata": {},
   "outputs": [
    {
     "data": {
      "text/plain": [
       "12"
      ]
     },
     "execution_count": 72,
     "metadata": {},
     "output_type": "execute_result"
    }
   ],
   "source": [
    "months = FileSequence('months.txt')\n",
    "len(months)"
   ]
  },
  {
   "cell_type": "code",
   "execution_count": 73,
   "metadata": {},
   "outputs": [
    {
     "data": {
      "text/plain": [
       "'The Latin name for June is Junius. Ovid offers multiple etymologies for the name in the Fasti, a poem about the Roman calendar. \\n'"
      ]
     },
     "execution_count": 73,
     "metadata": {},
     "output_type": "execute_result"
    }
   ],
   "source": [
    "months[5]"
   ]
  },
  {
   "cell_type": "markdown",
   "metadata": {},
   "source": [
    "The runtime can use `__len__` and `__getitem__` in several other contexts, too"
   ]
  },
  {
   "cell_type": "code",
   "execution_count": 74,
   "metadata": {},
   "outputs": [
    {
     "name": "stdout",
     "output_type": "stream",
     "text": [
      "January (in Latin, Ianuarius) is named after Janus, the god of beginnings and transitions in Roman mythology.\n",
      "\n",
      "The Roman month Februarius was named after the Latin term februum, which means purification, via the purification ritual Februa held on February 15 (full moon) in the old lunar Roman calendar. \n",
      "\n",
      "The name of March comes from Martius, the first month of the earliest Roman calendar. \n",
      "\n",
      "The Romans gave this month the Latin name Aprilis  but the derivation of this name is uncertain. \n",
      "\n",
      "The month of May (in Latin, Maius) was named for the Greek Goddess Maia, who was identified with the Roman era goddess of fertility, Bona Dea, whose festival was held in May. \n",
      "\n",
      "The Latin name for June is Junius. Ovid offers multiple etymologies for the name in the Fasti, a poem about the Roman calendar. \n",
      "\n",
      "July was named by the Roman Senate in honour of Roman general Julius Caesar, it being the month of his birth. \n",
      "\n",
      "August was originally named Sextilis in Latin because it was the sixth month in the original ten-month Roman calendar under Romulus in 753 BC, with March being the first month of the year.\n",
      "\n",
      "September (from Latin septem, \"seven\") was originally the seventh of ten months in the oldest known Roman calendar, the calendar of Romulus c. 750 BC\n",
      "\n",
      "The eighth month in the old calendar of Romulus c. 750 BC, October retained its name (from the Latin and Greek ôctō meaning \"eight\") after January and February were inserted into the calendar that had originally been created by the Romans. \n",
      "\n",
      "November was the ninth month of the calendar of Romulus c. 750 BC. \n",
      "\n",
      "December got its name from the Latin word decem (meaning ten) because it was originally the tenth month of the year in the calendar of Romulus c. 750 BC which began in March.\n"
     ]
    }
   ],
   "source": [
    "for x in months:\n",
    "    print(x)"
   ]
  },
  {
   "cell_type": "markdown",
   "metadata": {
    "slideshow": {
     "slide_type": "subslide"
    }
   },
   "source": [
    "## Example:  A File as a `MutableSequence`\n",
    "\n",
    "A `MutableSequence` is a subclass of `Sequence`.  It additionally requires:\n",
    "* [**`__setitem__(self, key, value)`**](https://docs.python.org/3/reference/datamodel.html#object.__setitem__): Allows assignment to `self[key] = value`.  Implementor can define `TypeError`, `IndexError`, and/or `KeyError`, when applicable.\n",
    "* [**`__delitem__(self, key)`**](https://docs.python.org/3/reference/datamodel.html#object.__delitem__): Allows `del self[key]`.  Implementor can implement error checking.  \n",
    "* **`insert(self, key, value)`**:  Allows `self.insert(key, value)`"
   ]
  },
  {
   "cell_type": "markdown",
   "metadata": {
    "slideshow": {
     "slide_type": "subslide"
    }
   },
   "source": [
    "## Example:  A File as a `MutableSequence`\n",
    "\n",
    "We are dispatching these operators to an internal list"
   ]
  },
  {
   "cell_type": "code",
   "execution_count": 75,
   "metadata": {},
   "outputs": [],
   "source": [
    "from collections.abc import MutableSequence\n",
    "\n",
    "class MutableFileSequence(MutableSequence):\n",
    "    def __init__(self, filename):\n",
    "        self.filename = filename\n",
    "        \n",
    "    def __len__(self):\n",
    "        with open(self.filename, 'r') as f:\n",
    "            L = f.readlines()\n",
    "            res = len(L)\n",
    "        return res\n",
    "    \n",
    "    def __getitem__(self, idx):\n",
    "        with open(self.filename, 'r') as f:\n",
    "            L = f.readlines()\n",
    "            res = L[idx]\n",
    "        return res\n",
    "    \n",
    "    def __setitem__(self, idx, item):\n",
    "        with open(self.filename, 'r+') as f:\n",
    "            L = f.readlines()\n",
    "            L[idx] = item\n",
    "            f.seek(0)\n",
    "            f.writelines(L)\n",
    "            ##  seek(0) means go back to the beginning\n",
    "            ##  overwrite the L\n",
    "    def __delitem__(self, idx):\n",
    "        with open(self.filename, 'r+') as f:\n",
    "            L = f.readlines()\n",
    "            del L[idx]\n",
    "            f.seek(0)\n",
    "            f.writelines(L)\n",
    "            \n",
    "    def insert(self, idx, item):\n",
    "        with open(self.filename, 'r+') as f:\n",
    "            L = f.readlines()\n",
    "            L.insert(idx, item)\n",
    "            f.seek(0)\n",
    "            f.writelines(L)"
   ]
  },
  {
   "cell_type": "markdown",
   "metadata": {
    "slideshow": {
     "slide_type": "subslide"
    }
   },
   "source": [
    "## Example: A File as a `MutableSequence`"
   ]
  },
  {
   "cell_type": "code",
   "execution_count": 76,
   "metadata": {},
   "outputs": [],
   "source": [
    "months = MutableFileSequence('months.txt')\n",
    "\n",
    "months[4] = 'May is my birthday!\\n'"
   ]
  },
  {
   "cell_type": "code",
   "execution_count": 77,
   "metadata": {},
   "outputs": [],
   "source": [
    "del months[4]"
   ]
  },
  {
   "cell_type": "code",
   "execution_count": 78,
   "metadata": {},
   "outputs": [],
   "source": [
    "months.insert(4, \"May is my wife's birthday!\\n\")"
   ]
  }
 ],
 "metadata": {
  "celltoolbar": "Slideshow",
  "kernelspec": {
   "display_name": "Python 3",
   "language": "python",
   "name": "python3"
  },
  "language_info": {
   "codemirror_mode": {
    "name": "ipython",
    "version": 3
   },
   "file_extension": ".py",
   "mimetype": "text/x-python",
   "name": "python",
   "nbconvert_exporter": "python",
   "pygments_lexer": "ipython3",
   "version": "3.7.3"
  }
 },
 "nbformat": 4,
 "nbformat_minor": 1
}
